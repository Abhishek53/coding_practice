{
 "cells": [
  {
   "cell_type": "code",
   "execution_count": 29,
   "id": "ea66da2a-f0fe-4d16-a1b1-a7a198b28e5e",
   "metadata": {},
   "outputs": [],
   "source": [
    "list1 = [1, 2, 5, 5, 1, 3, 3, 6]"
   ]
  },
  {
   "cell_type": "code",
   "execution_count": 30,
   "id": "edcdeaeb-e1ef-4df8-bf64-37bf48a24116",
   "metadata": {},
   "outputs": [],
   "source": [
    "def bubble_sort(ls):\n",
    "    \n",
    "    for i in range(0, len(ls)):\n",
    "        for j in range(0, len(ls) - i - 1):\n",
    "            if ls[j] < ls[j+1]:\n",
    "                ls[j], ls[j+1] = ls[j+1], ls[j]\n",
    "    return ls\n",
    "\n"
   ]
  },
  {
   "cell_type": "code",
   "execution_count": 31,
   "id": "9ecd4792-ed49-4b31-adb8-23ace0bf8f05",
   "metadata": {},
   "outputs": [],
   "source": [
    "sorted_list = bubble_sort(list1)"
   ]
  },
  {
   "cell_type": "code",
   "execution_count": 33,
   "id": "59e7f227-f067-40f3-8829-cacd21a400fd",
   "metadata": {},
   "outputs": [
    {
     "data": {
      "text/plain": [
       "[6, 5, 5, 3, 3, 2, 1, 1]"
      ]
     },
     "execution_count": 33,
     "metadata": {},
     "output_type": "execute_result"
    }
   ],
   "source": [
    "sorted_list"
   ]
  },
  {
   "cell_type": "code",
   "execution_count": 34,
   "id": "2ed967cc-bdb3-429e-a604-94029ebfe1f4",
   "metadata": {},
   "outputs": [],
   "source": [
    "repeating_elements = []\n",
    "for ele in sorted_list[1:]:\n",
    "    if sorted_list.count(ele) >=2:\n",
    "        repeating_elements.append(ele)\n",
    "        \n",
    "        "
   ]
  },
  {
   "cell_type": "code",
   "execution_count": 39,
   "id": "17e291b7-916e-475e-8ada-0bfc048a55dd",
   "metadata": {},
   "outputs": [],
   "source": [
    "unique_elements_repeated = list(set(repeating_elements))"
   ]
  },
  {
   "cell_type": "code",
   "execution_count": 45,
   "id": "6645c21d-3d80-4138-a526-95b722e80091",
   "metadata": {},
   "outputs": [
    {
     "data": {
      "text/plain": [
       "3"
      ]
     },
     "execution_count": 45,
     "metadata": {},
     "output_type": "execute_result"
    }
   ],
   "source": [
    "unique_elements_repeated[-2]"
   ]
  },
  {
   "cell_type": "code",
   "execution_count": 47,
   "id": "2c8f6265-e73e-4d2f-b939-c03188a6aad8",
   "metadata": {},
   "outputs": [],
   "source": [
    "dict(d = {'a' : 10, 'b' : 2, 'c' : 12, 'd' : 6})"
   ]
  },
  {
   "cell_type": "code",
   "execution_count": 57,
   "id": "c9d63f01-15cd-4e46-946d-03b2e5b91e28",
   "metadata": {},
   "outputs": [
    {
     "data": {
      "text/plain": [
       "{'b': 2, 'd': 6, 'a': 10, 'c': 12}"
      ]
     },
     "execution_count": 57,
     "metadata": {},
     "output_type": "execute_result"
    }
   ],
   "source": [
    "{k:v for k,v in sorted(d.items(), key = lambda item : item[1])}"
   ]
  },
  {
   "cell_type": "code",
   "execution_count": null,
   "id": "5170a0f6-c862-40e5-a52f-4f848f57336b",
   "metadata": {},
   "outputs": [],
   "source": []
  }
 ],
 "metadata": {
  "kernelspec": {
   "display_name": "Python 3 (ipykernel)",
   "language": "python",
   "name": "python3"
  },
  "language_info": {
   "codemirror_mode": {
    "name": "ipython",
    "version": 3
   },
   "file_extension": ".py",
   "mimetype": "text/x-python",
   "name": "python",
   "nbconvert_exporter": "python",
   "pygments_lexer": "ipython3",
   "version": "3.8.10"
  }
 },
 "nbformat": 4,
 "nbformat_minor": 5
}
