{
 "cells": [
  {
   "cell_type": "markdown",
   "id": "9a206f11-d1e4-4c7b-97d4-8b17f95529d5",
   "metadata": {},
   "source": [
    "### **Leet Code Problems - [Data Structures Practice Plan](https://leetcode.com/study-plan/data-structure/?progress=awqqesc)**"
   ]
  },
  {
   "cell_type": "markdown",
   "id": "b9cb033f-dad8-4251-ad2a-d6211afdcb58",
   "metadata": {},
   "source": [
    "### **QUESTION** - 02 Jan 2022\n",
    "<hr>\n",
    "217 Contains Duplicate\n",
    "Easy\n",
    "\n",
    "Given an integer array nums, return true if any value appears at least twice in the array, and return false if every element is distinct.\n",
    "\n",
    " \n",
    "\n",
    "Example 1:\n",
    "\n",
    "Input: nums = [1,2,3,1]\n",
    "\n",
    "Output: true\n",
    "\n",
    "Example 2:\n",
    "\n",
    "Input: nums = [1,2,3,4]\n",
    "\n",
    "Output: false\n",
    "\n",
    "Example 3:\n",
    "\n",
    "Input: nums = [1,1,1,3,3,4,3,2,4,2]\n",
    "\n",
    "Output: true\n",
    "\n",
    " \n",
    "\n",
    "Constraints:\n",
    "\n",
    "    1 <= nums.length <= 105\n",
    "    -109 <= nums[i] <= 109\n",
    "<hr>\n",
    "\n"
   ]
  },
  {
   "cell_type": "code",
   "execution_count": null,
   "id": "9d93acbb-3d5b-42e8-a7aa-bec7ca7473e0",
   "metadata": {},
   "outputs": [],
   "source": []
  },
  {
   "cell_type": "code",
   "execution_count": null,
   "id": "7e9a37e3-5645-41d4-b62f-2d81b3bd4bef",
   "metadata": {},
   "outputs": [],
   "source": []
  },
  {
   "cell_type": "code",
   "execution_count": null,
   "id": "6c99d494-1729-431d-bc02-f5ec5548757d",
   "metadata": {},
   "outputs": [],
   "source": []
  },
  {
   "cell_type": "code",
   "execution_count": null,
   "id": "670509a4-4be9-4e33-988d-8296f06c010f",
   "metadata": {},
   "outputs": [],
   "source": []
  },
  {
   "cell_type": "code",
   "execution_count": null,
   "id": "818d0e00-cb8b-4007-af8e-a855727fd400",
   "metadata": {},
   "outputs": [],
   "source": []
  },
  {
   "cell_type": "code",
   "execution_count": null,
   "id": "40dc34f3-a58d-4803-bd6c-3ddfc60e1e93",
   "metadata": {},
   "outputs": [],
   "source": []
  },
  {
   "cell_type": "code",
   "execution_count": null,
   "id": "53fb53c5-2948-43fe-a9c5-3f0c05f7ce6c",
   "metadata": {},
   "outputs": [],
   "source": []
  }
 ],
 "metadata": {
  "kernelspec": {
   "display_name": "Python 3 (ipykernel)",
   "language": "python",
   "name": "python3"
  },
  "language_info": {
   "codemirror_mode": {
    "name": "ipython",
    "version": 3
   },
   "file_extension": ".py",
   "mimetype": "text/x-python",
   "name": "python",
   "nbconvert_exporter": "python",
   "pygments_lexer": "ipython3",
   "version": "3.8.10"
  }
 },
 "nbformat": 4,
 "nbformat_minor": 5
}
