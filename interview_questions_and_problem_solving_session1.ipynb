{
 "cells": [
  {
   "cell_type": "markdown",
   "id": "empty-worth",
   "metadata": {},
   "source": [
    "# <u> Interview questions and problem solving session 1 </u> \n",
    "# SEARCHING \n",
    "###  <u> PROBLEM STATEMENT</u> : \n",
    "###  1. Given an unsorted list L of n elements with values or records L(0) . . . . . L(n-1) and target value T, find the target T in L. \n",
    "\n",
    "<b> APPROACHES </b>: DATA STRUCTURES\n",
    "1. ARRAYS\n",
    "\n",
    "2. LINKED LIST\n",
    "\n",
    "<br>\n",
    "<b>APPROACH 1:</b>\n",
    "\n",
    "<img src=\"images/arrays.png\">\n",
    "\n",
    "\n",
    "<b>Linear Search</b> : A method for finding a target value in a list.\n",
    "It sequentilly checks each element until target value math is found or until all the elements have been searched.\n",
    "It works on both sorted and unsorted Data.\n",
    "\n",
    "<br>\n",
    "\n",
    "#### Psuedocode\n",
    "* <b>step 1</b> : Set i to 0\n",
    "* <b>step 2</b> : if L[i] = T, Search terminated succesfully, Return i.\n",
    "* <b>step 3</b> : increse i by 1\n",
    "* <b>step 4</b> : if i < n goto step 2, Otherwise search terminated unsuccesfully\n",
    "\n",
    "<br>\n",
    "\n",
    "<img src=\"images/linear_search_arrays.jpg\" >\n",
    "\n",
    "<br>\n",
    "\n",
    "# IMPLEMENTATION:\n"
   ]
  },
  {
   "cell_type": "code",
   "execution_count": 8,
   "id": "palestinian-check",
   "metadata": {},
   "outputs": [],
   "source": [
    "#Linear search implementation using arrays as datastructure\n",
    "\n",
    "def linearSearch(arr:[], length:int, target:int) -> int :\n",
    "    \"\"\"\n",
    "    Args:\n",
    "    arr (list) : list or array of elements\n",
    "    length (int) : size of array or list arr\n",
    "    target (int) : key value to be searched in array\n",
    "    \n",
    "    Returns: \n",
    "    index (int) : index of target value if search sucessful else return -1 if search unsucessful\n",
    "    \"\"\"\n",
    "\n",
    "    #iterate through each element of array and match target value\n",
    "    for i in range(0, length):\n",
    "        #check if current element of array is equal to target\n",
    "        if(arr[i] == target):\n",
    "            return i\n",
    "        \n",
    "    return -1"
   ]
  },
  {
   "cell_type": "code",
   "execution_count": 10,
   "id": "valid-communication",
   "metadata": {
    "scrolled": true
   },
   "outputs": [
    {
     "name": "stdout",
     "output_type": "stream",
     "text": [
      "\n",
      "\n",
      "\n",
      "Do you want to perform linear search? [Y/N] : Y\n",
      "\n",
      "[8, 6, 10, 2, 4]\n",
      "\n",
      "Enter the target element you want to search :10\n",
      "\n",
      "Search Successful : Element 10 found in position 3\n",
      "\n",
      "\n",
      "\n",
      "Do you want to perform linear search? [Y/N] : Y\n",
      "\n",
      "[8, 6, 10, 2, 4]\n",
      "\n",
      "Enter the target element you want to search :15\n",
      "\n",
      "Search Unsuccessful : Element 15 could not be found in array\n",
      "\n",
      "\n",
      "\n",
      "Do you want to perform linear search? [Y/N] : N\n"
     ]
    }
   ],
   "source": [
    "#initialize array and size of array\n",
    "arr = [8, 6, 10, 2, 4]\n",
    "length = len(arr)\n",
    "\n",
    "\n",
    "while(input(\"\\n\\n\\nDo you want to perform linear search? [Y/N] : \") == \"Y\"):\n",
    "    \n",
    "    #get target element from user\n",
    "    print(f\"\\n{arr}\\n\")\n",
    "    target = int(input(\"Enter the target element you want to search :\"))\n",
    "    \n",
    "    #perform linear search and print result.\n",
    "    index = linearSearch(arr, length, target)\n",
    "    if(index==-1):\n",
    "        print(f\"\\nSearch Unsuccessful : Element {target} could not be found in array\")\n",
    "    else:\n",
    "        print(f\"\\nSearch Successful : Element {target} found in position {index + 1}\")"
   ]
  },
  {
   "cell_type": "code",
   "execution_count": null,
   "id": "initial-radical",
   "metadata": {},
   "outputs": [],
   "source": []
  },
  {
   "cell_type": "markdown",
   "id": "residential-speed",
   "metadata": {},
   "source": [
    "# 1. Time Complexity \n",
    "\n",
    "* Best case : Number of iterations = 1\n",
    "* worst case : Number of iterations = n+1\n",
    "* Average case : Number of iterations = (n+2) / 2\n",
    "    \n",
    "    * T(n) = T(n - 1) + 1\n",
    "\n",
    "## LINEAR SEARCH : T(n) = O(n) \n",
    "\n",
    "<br>\n",
    "\n",
    "# 2. Space Complexity\n",
    "\n",
    "##  LINEAR SEARCH : S(n) = O(1) <"
   ]
  },
  {
   "cell_type": "code",
   "execution_count": null,
   "id": "vietnamese-means",
   "metadata": {},
   "outputs": [],
   "source": []
  },
  {
   "cell_type": "markdown",
   "id": "naked-cambodia",
   "metadata": {},
   "source": [
    "# Approach 2\n",
    "\n",
    "<img src = \"images/linked_list.png\">\n",
    "\n",
    "<b>Linked List :</b> A linked list is a linear data structure, in which the elements are not stored at contiguous memory locations. The elements in a linked list are linked using pointers or reference to next element.\n",
    "<br>\n",
    "<img src=\"images/linear_search_linked_list.jpg\">\n",
    "<br>\n",
    "# IMPLEMENTATION : "
   ]
  },
  {
   "cell_type": "code",
   "execution_count": 5,
   "id": "italian-still",
   "metadata": {},
   "outputs": [],
   "source": [
    "#Node class\n",
    "class Node:\n",
    "    #create a node with data and reference to next element\n",
    "    def __init__(self, data):\n",
    "        self.data = data\n",
    "        self.next = None\n",
    "\n",
    "\n",
    "#Linked list class\n",
    "class LinkedList:\n",
    "    def __init__(self):\n",
    "        self.head = None\n",
    "    \n",
    "    def insert(self, new_data):\n",
    "        \n",
    "        new_node = Node(new_data)\n",
    "        new_node.next = self.head\n",
    "        self.head = new_node\n",
    "        return\n",
    "    \n",
    "    def search(self, x):\n",
    "        \n",
    "        current = self.head\n",
    "        \n",
    "        while(current != None):\n",
    "            if current.data == x:\n",
    "                return current\n",
    "            current = current.next\n",
    "            \n",
    "        return None\n",
    "        \n",
    "        \n",
    "    "
   ]
  },
  {
   "cell_type": "code",
   "execution_count": 7,
   "id": "american-passenger",
   "metadata": {},
   "outputs": [
    {
     "name": "stdout",
     "output_type": "stream",
     "text": [
      "Do you want to perform linear search [Y/n] : Y\n",
      "Enter the target element to search2\n",
      "Search element 2 found in Linked List\n",
      "Do you want to perform linear search [Y/n] : Y\n",
      "Enter the target element to search6\n",
      "Search element 6 found in Linked List\n",
      "Do you want to perform linear search [Y/n] : n\n"
     ]
    }
   ],
   "source": [
    "# Linear search driving snippet\n",
    "ll_obj = LinkedList()\n",
    "\n",
    "ll_obj.insert(8)\n",
    "ll_obj.insert(6)\n",
    "ll_obj.insert(10)\n",
    "ll_obj.insert(2)\n",
    "ll_obj.insert(4)\n",
    "\n",
    "while(input(\"Do you want to perform linear search [Y/n] : \") == \"Y\"):\n",
    "    target = int(input(\"Enter the target element to search\"))\n",
    "    res = ll_obj.search(target)\n",
    "    if(res == None):\n",
    "        print(f\"Serach Unsuccessful: {target} was not found in Linked List\")\n",
    "    else:\n",
    "        print(f\"Search element {res.data} found in Linked List\")\n",
    "        "
   ]
  },
  {
   "cell_type": "markdown",
   "id": "organic-cache",
   "metadata": {},
   "source": [
    "# 1. Time Complexity \n",
    "\n",
    "* Best case : Number of iterations = 1\n",
    "* worst case : Number of iterations = n+1\n",
    "* Average case : Number of iterations = (n+2) / 2\n",
    "    \n",
    "    * T(n) = T(n - 1) + 1\n",
    "\n",
    "## LINEAR SEARCH : T(n) = O(n) \n",
    "\n",
    "<br>\n",
    "\n",
    "# 2. Space Complexity\n",
    "\n",
    "## LINEAR SEARCH : S(n) = O(n) "
   ]
  },
  {
   "cell_type": "code",
   "execution_count": null,
   "id": "precious-arbor",
   "metadata": {},
   "outputs": [],
   "source": []
  },
  {
   "cell_type": "markdown",
   "id": "suspected-fence",
   "metadata": {},
   "source": [
    "# KEEP LEARNING, KEEP TEACHING, KEEP SHARING !!!\n",
    "# Thank YOU, Lets meet in next tutorial 🙂"
   ]
  },
  {
   "cell_type": "code",
   "execution_count": null,
   "id": "recorded-savings",
   "metadata": {},
   "outputs": [],
   "source": []
  }
 ],
 "metadata": {
  "kernelspec": {
   "display_name": "Python 3",
   "language": "python",
   "name": "python3"
  },
  "language_info": {
   "codemirror_mode": {
    "name": "ipython",
    "version": 3
   },
   "file_extension": ".py",
   "mimetype": "text/x-python",
   "name": "python",
   "nbconvert_exporter": "python",
   "pygments_lexer": "ipython3",
   "version": "3.8.5"
  }
 },
 "nbformat": 4,
 "nbformat_minor": 5
}
