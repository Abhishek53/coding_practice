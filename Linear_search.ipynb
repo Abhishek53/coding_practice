{
 "cells": [
  {
   "cell_type": "markdown",
   "id": "empty-worth",
   "metadata": {},
   "source": [
    "# <center> LINEAR SEARCH </center>"
   ]
  },
  {
   "cell_type": "markdown",
   "id": "designed-diploma",
   "metadata": {},
   "source": [
    "<img src=\"images/linear_search1.jpg\" >\n",
    "<img src=\"images/linear_search2.jpg\" >"
   ]
  },
  {
   "cell_type": "code",
   "execution_count": 6,
   "id": "general-contribution",
   "metadata": {},
   "outputs": [],
   "source": [
    "def linearSearch(arr:[], length:int, target:int) -> int :\n",
    "    \"\"\"\n",
    "    Args:\n",
    "    arr (list) : list or array of elements\n",
    "    length (int) : size of array or list arr\n",
    "    target (int) : key value to be searched in array\n",
    "    \n",
    "    Returns: \n",
    "    index (int) : index of target value if search sucessful else return -1 if search unsucessful\n",
    "    \"\"\"\n",
    "\n",
    "    #iterate through each element of array and match target value\n",
    "    for i in range(0, length):\n",
    "        #check if current element of array is equal to target\n",
    "        if(arr[i] == target):\n",
    "            return i\n",
    "    return -1"
   ]
  },
  {
   "cell_type": "code",
   "execution_count": null,
   "id": "valid-communication",
   "metadata": {},
   "outputs": [],
   "source": [
    "arr = [5, 6, 4, 2, 8, 6, 15, 46, 25, 36, 41, 2, 3]\n",
    "length = len(arr)\n",
    "while(True):\n",
    "    print(arr)\n",
    "    target = int(input(\"Enter the target element you want to search :\"))\n",
    "    index = linearSearch(arr, length, target)\n",
    "    if(index==-1):\n",
    "        print(f\"Search Unsucsessful \\nElement {target} could not be found in array\")\n",
    "    else:\n",
    "        print(f\"Search Sucessful\\nElement {target} found in position {index + 1}\")"
   ]
  },
  {
   "cell_type": "code",
   "execution_count": null,
   "id": "dressed-parks",
   "metadata": {},
   "outputs": [],
   "source": []
  }
 ],
 "metadata": {
  "kernelspec": {
   "display_name": "Python 3",
   "language": "python",
   "name": "python3"
  },
  "language_info": {
   "codemirror_mode": {
    "name": "ipython",
    "version": 3
   },
   "file_extension": ".py",
   "mimetype": "text/x-python",
   "name": "python",
   "nbconvert_exporter": "python",
   "pygments_lexer": "ipython3",
   "version": "3.8.5"
  }
 },
 "nbformat": 4,
 "nbformat_minor": 5
}
