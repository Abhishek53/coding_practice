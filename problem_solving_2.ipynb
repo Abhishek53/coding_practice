{
 "cells": [
  {
   "cell_type": "markdown",
   "id": "least-hands",
   "metadata": {},
   "source": [
    "# <center><u>Interview questions and problem solving session 2 </u></center>\n",
    "\n",
    "\n",
    "##  <font color=\"red\"> PROBLEM STATEMENT : \n",
    "# <font color=\"red\"> 2. Given a sorted list L of n elements with values or records L(0) . . . . . L(n-1) and target value T, find the target T in L. </font>\n",
    "\n",
    "\n",
    "## <u>Appraoch:</u>    \n",
    "    \n",
    "### <b>Binary Search :</b> \n",
    "* #### Finds the position of target element in sorted list. \n",
    "* #### Binary search is not applicable for unsorted list.\n",
    "<br>\n",
    "    \n",
    "* ### <u>Working:</u>\n",
    "    * #### Matches middle element of the list in every iteration. If match found returns postion.\n",
    "    * #### Otherwise, It splits the array into 2 half searches either in left half or right half.\n",
    "    \n",
    "<img src=\"images/binary_search.png\" />\n",
    "    \n",
    "    \n",
    "* ### <u>Psuedocode:</u>\n",
    "    \n",
    "    * #### step 1 : Set L = 0 and R = size\n",
    "    * #### step 2 : If L > R, Search unsuccssful terminate.\n",
    "    * #### step 3 : set m = (L + R) // 2\n",
    "    * #### step 4 : T == Array[m], Search successful return m.\n",
    "    * #### step 5 : if Array[m] < T, set L = m + 1, go to step 2\n",
    "    * #### step 6 : if Array[m] > T, set R = m - 1, go to step 2\n",
    "                                    \n",
    "<br >\n",
    "    \n",
    "<img src=\"images/iterative_binary_search_snippet.jpg\" />\n",
    "        \n",
    "<br>\n",
    "    \n",
    "<img src=\"images/binary_search_tracing.jpg\" />\n",
    "\n"
   ]
  },
  {
   "cell_type": "code",
   "execution_count": 2,
   "id": "described-clearance",
   "metadata": {},
   "outputs": [],
   "source": [
    "#binary search\n",
    "def binarySearch(arr, size, target):\n",
    "    \"\"\"\n",
    "    Args:\n",
    "    arr (list) : list of array elements\n",
    "    size (int) : Number of elements in the array\n",
    "    target (int) : Target element that has to be searched in the array arr\n",
    "    \n",
    "    Returns:\n",
    "    index (int) : Position of target element if search successful otherwise returns -1\n",
    "    \"\"\"\n",
    "    \n",
    "    left, right = 0, size\n",
    "    mid = None\n",
    "    \n",
    "    while(left <= right):\n",
    "        \n",
    "        #compute middle element index\n",
    "        mid = (left + right) // 2\n",
    "        \n",
    "        #compare current middle element with the target\n",
    "        if(arr[mid] == target):\n",
    "            return mid\n",
    "        \n",
    "        #split the array into 2 half.\n",
    "        if(arr[mid] < target):\n",
    "            left = mid + 1\n",
    "            \n",
    "        else:\n",
    "            right = mid - 1\n",
    "    \n",
    "    return -1    "
   ]
  },
  {
   "cell_type": "code",
   "execution_count": 3,
   "id": "collaborative-consistency",
   "metadata": {},
   "outputs": [
    {
     "name": "stdout",
     "output_type": "stream",
     "text": [
      "Do you want to perform binary search [Y/N]Y\n",
      "[3, 6, 9, 11, 15, 22, 38, 50, 72, 91]\n",
      "Enter the element you want to search :11\n",
      "Search is successful : 11 element found in postion 4\n",
      "\n",
      "Do you want to perform binary search [Y/N]Y\n",
      "[3, 6, 9, 11, 15, 22, 38, 50, 72, 91]\n",
      "Enter the element you want to search :72\n",
      "Search is successful : 72 element found in postion 9\n",
      "\n",
      "Do you want to perform binary search [Y/N]Y\n",
      "[3, 6, 9, 11, 15, 22, 38, 50, 72, 91]\n",
      "Enter the element you want to search :13\n",
      "Search is unsuccessful : 13 element could not be found in array\n",
      "\n",
      "Do you want to perform binary search [Y/N]N\n"
     ]
    }
   ],
   "source": [
    "arr = [3, 6, 9 , 11, 15, 22, 38, 50, 72, 91]\n",
    "size = len(arr)\n",
    "\n",
    "while(input(\"Do you want to perform binary search [Y/N]\") == \"Y\"):\n",
    "    \n",
    "    print(f\"{arr}\")\n",
    "    \n",
    "    target = int(input(\"Enter the element you want to search :\"))\n",
    "    position = binarySearch(arr, size, target)\n",
    "    \n",
    "    if(position == -1):\n",
    "        print(f\"Search is unsuccessful : {target} element could not be found in array\\n\")\n",
    "    else:\n",
    "        print(f\"Search is successful : {target} element found in postion {position + 1}\\n\")"
   ]
  },
  {
   "cell_type": "code",
   "execution_count": 4,
   "id": "female-algeria",
   "metadata": {},
   "outputs": [],
   "source": [
    "#binary search\n",
    "def recursiveBinarySearch(arr, size, target, left, right):\n",
    "    \"\"\"\n",
    "    Args:\n",
    "    arr (list) : list of array elements\n",
    "    size (int) : Number of elements in the array\n",
    "    target (int) : Target element that has to be searched in the array arr\n",
    "    \n",
    "    Returns:\n",
    "    index (int) : Position of target element if search successful otherwise returns -1\n",
    "    \"\"\"\n",
    "    \n",
    "    if(left <= right):\n",
    "        \n",
    "        #compute mid index and match current mid element with target\n",
    "        mid = (left + right) // 2\n",
    "        if(arr[mid] == target):\n",
    "            return mid\n",
    "        \n",
    "        #as current mid doesn't match update l_index or r_index \n",
    "        if(arr[mid] < target):\n",
    "            return recursiveBinarySearch(arr, size, target, mid + 1, right)\n",
    "        elif(arr[mid] > target):\n",
    "            return recursiveBinarySearch(arr, size, target, left, mid - 1)\n",
    "        \n",
    "    else:\n",
    "        return -1\n",
    "    "
   ]
  },
  {
   "cell_type": "code",
   "execution_count": null,
   "id": "intense-virus",
   "metadata": {},
   "outputs": [
    {
     "name": "stdout",
     "output_type": "stream",
     "text": [
      "Do you want to perform binary search [Y/N]Y\n",
      "[3, 6, 9, 11, 15, 22, 38, 50, 72, 91]\n",
      "Enter the element you want to search :38\n",
      "Search is successful : 38 element found in postion 7\n",
      "\n"
     ]
    }
   ],
   "source": [
    "arr = [3, 6, 9 , 11, 15, 22, 38, 50, 72, 91]\n",
    "size = len(arr)\n",
    "\n",
    "while(input(\"Do you want to perform binary search [Y/N]\") == \"Y\"):\n",
    "    \n",
    "    print(f\"{arr}\")\n",
    "    target = int(input(\"Enter the element you want to search :\"))\n",
    "    position = recursiveBinarySearch(arr, size, target, 0, size)\n",
    "    if(position == -1):\n",
    "        print(f\"Search is unsuccessful : {target} element could not be found in array\\n\")\n",
    "    else:\n",
    "        print(f\"Search is successful : {target} element found in postion {position + 1}\\n\")"
   ]
  },
  {
   "cell_type": "code",
   "execution_count": null,
   "id": "parallel-catalog",
   "metadata": {},
   "outputs": [],
   "source": []
  },
  {
   "cell_type": "markdown",
   "id": "organic-cache",
   "metadata": {},
   "source": [
    "# 1. Time Complexity \n",
    "\n",
    "\n",
    "#  T(n) = T(n / 2) + 1 </font>\n",
    "\n",
    "## <font color=\"red\"> BINARY SEARCH : T(n) = O($log_{2}$ n) </font>\n",
    "\n",
    "<br>\n",
    "\n",
    "# 2. Space Complexity\n",
    "\n",
    "## <font color=\"red\"> BINARY SEARCH : S(n) = O(1) </font>"
   ]
  },
  {
   "cell_type": "code",
   "execution_count": null,
   "id": "precious-arbor",
   "metadata": {},
   "outputs": [],
   "source": []
  },
  {
   "cell_type": "markdown",
   "id": "suspected-fence",
   "metadata": {},
   "source": [
    "# KEEP LEARNING, KEEP TEACHING, KEEP SHARING !!!\n",
    "# Thank YOU, Lets meet in next tutorial 🙂"
   ]
  },
  {
   "cell_type": "markdown",
   "id": "legitimate-organic",
   "metadata": {},
   "source": []
  }
 ],
 "metadata": {
  "kernelspec": {
   "display_name": "Python 3",
   "language": "python",
   "name": "python3"
  },
  "language_info": {
   "codemirror_mode": {
    "name": "ipython",
    "version": 3
   },
   "file_extension": ".py",
   "mimetype": "text/x-python",
   "name": "python",
   "nbconvert_exporter": "python",
   "pygments_lexer": "ipython3",
   "version": "3.8.5"
  }
 },
 "nbformat": 4,
 "nbformat_minor": 5
}
