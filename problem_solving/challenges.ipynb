{
 "cells": [
  {
   "cell_type": "markdown",
   "id": "7fbe2d7a-2514-48de-8bd3-984c1c3c7018",
   "metadata": {},
   "source": [
    "* Author : abhishekr.ar53@gmail.com\n",
    "* Date : **5th MAR 2022**\n",
    "----\n",
    "\n",
    "### **Given an array of integers nums and an integer target, return indices of the two numbers such that they add up to target. You may assume that each input would have exactly one solution, and you may not use the same element twice. You can return the answer in any order.**\n",
    "\n",
    "Example 1:\n",
    "\n",
    "Input: nums = [2,7,11,15], target = 9\n",
    "Output: [0,1]\n",
    "Explanation: Because nums[0] + nums[1] == 9, we return [0, 1].\n",
    "\n",
    "Example 2:\n",
    "\n",
    "Input: nums = [3,2,4], target = 6\n",
    "Output: [1,2]\n",
    "\n",
    "Example 3:\n",
    "\n",
    "Input: nums = [3,3], target = 6\n",
    "Output: [0,1]\n",
    "\n",
    "Constraints:\n",
    "\n",
    "    2 <= nums.length <= 104\n",
    "    -109 <= nums[i] <= 109\n",
    "    -109 <= target <= 109\n",
    "    Only one valid answer exists.\n",
    "\n",
    " \n",
    "Follow-up: Can you come up with an algorithm that is less than O(n2) time complexity?"
   ]
  },
  {
   "cell_type": "markdown",
   "id": "c4de478e-dc64-45f8-b4e2-08acb096f460",
   "metadata": {
    "tags": []
   },
   "source": [
    "## **1.BRUTE FORECE** : \n",
    "* Time Complexity = O(n2)\n",
    "* Space complexity = O(1)"
   ]
  },
  {
   "cell_type": "code",
   "execution_count": 12,
   "id": "d9b22d3f-2359-4c8f-880f-a48ec4b34bc2",
   "metadata": {},
   "outputs": [],
   "source": [
    "from typing import List\n",
    "class TwoSum:\n",
    "    def get_two_sum_indeces(self, number_list:List[int], target:int) -> List[int]:\n",
    "        length_of_array = len(number_list)\n",
    "        for i in range(0 , length_of_array): #nested iterate through array and find the sum\n",
    "            for j in range(i+ 1, length_of_array):\n",
    "                if(number_list[i] + number_list[j] == target):\n",
    "                    return [i,j]\n",
    "                \n",
    "class_object = TwoSum()"
   ]
  },
  {
   "cell_type": "code",
   "execution_count": 13,
   "id": "5eb9c058-6f02-404e-aa48-d0659ca5b331",
   "metadata": {},
   "outputs": [
    {
     "name": "stdout",
     "output_type": "stream",
     "text": [
      "Test case 1\n",
      "Array = [2, 7, 11, 15]\tTarget = 9\n",
      "Indeces for sum = [0, 1]\n",
      "\n",
      "Test case 2\n",
      "Array = [3, 2, 4]\tTarget = 6\n",
      "Indeces for sum = [1, 2]\n",
      "\n",
      "Test case 3\n",
      "Array = [3, 3]\tTarget = 6\n",
      "Indeces for sum = [0, 1]\n"
     ]
    }
   ],
   "source": [
    "# Test case 1\n",
    "print(\"Test case 1\")\n",
    "array, target = [2,7,11,15], 9\n",
    "print(f\"Array = {array}\\tTarget = {target}\")\n",
    "print(f\"Indeces for sum = {class_object.get_two_sum_indeces(array, target)}\")\n",
    "\n",
    "\n",
    "# Test case 2\n",
    "print(\"\\nTest case 2\")\n",
    "array, target = [3, 2, 4], 6\n",
    "print(f\"Array = {array}\\tTarget = {target}\")\n",
    "print(f\"Indeces for sum = {class_object.get_two_sum_indeces(array, target)}\")\n",
    "\n",
    "# Test case 3\n",
    "print(\"\\nTest case 3\")\n",
    "array, target = [3,3], 6\n",
    "print(f\"Array = {array}\\tTarget = {target}\")\n",
    "print(f\"Indeces for sum = {class_object.get_two_sum_indeces(array, target)}\")\n"
   ]
  },
  {
   "cell_type": "markdown",
   "id": "60584956-9fef-4341-b3ad-95140f2818d1",
   "metadata": {},
   "source": [
    "----"
   ]
  },
  {
   "cell_type": "markdown",
   "id": "6587f9ca-6775-41fd-9d38-1c11624c2310",
   "metadata": {},
   "source": [
    "## **Follow-up: Can you come up with an algorithm that is less than O(n2) time complexity?**\n",
    "* Time Complexity = O(n)\n",
    "* Space complexity = O(n)"
   ]
  },
  {
   "cell_type": "code",
   "execution_count": 16,
   "id": "9d1ea271-6d42-4ad8-a741-9b02b6f23200",
   "metadata": {},
   "outputs": [],
   "source": [
    "from typing import List\n",
    "class TwoSum:\n",
    "    def get_two_sum_indeces(self, number_list:List[int], target:int) -> List[int]:\n",
    "\n",
    "        hash_mapper = {}\n",
    "        \n",
    "        for index, value in enumerate(number_list): #iterate through array keep track of visited number if visited number makes sum with current number return indeces else push current number to tracker\n",
    "            expected_number = target - number_list[index]\n",
    "            if expected_number in hash_mapper:\n",
    "                return [hash_mapper[expected_number], index] #get index for the expected number\n",
    "            else:\n",
    "                hash_mapper[value] = index #store the existing index of the current value\n",
    "            \n",
    "                \n",
    "class_object = TwoSum()"
   ]
  },
  {
   "cell_type": "code",
   "execution_count": 17,
   "id": "7bf4340a-8089-4d8d-894e-c2f4d5202b2a",
   "metadata": {},
   "outputs": [
    {
     "name": "stdout",
     "output_type": "stream",
     "text": [
      "Test case 1\n",
      "Array = [2, 7, 11, 15]\tTarget = 9\n",
      "Indeces for sum = [0, 1]\n",
      "\n",
      "Test case 2\n",
      "Array = [3, 2, 4]\tTarget = 6\n",
      "Indeces for sum = [1, 2]\n",
      "\n",
      "Test case 3\n",
      "Array = [3, 3]\tTarget = 6\n",
      "Indeces for sum = [0, 1]\n"
     ]
    }
   ],
   "source": [
    "# Test case 1\n",
    "print(\"Test case 1\")\n",
    "array, target = [2,7,11,15], 9\n",
    "print(f\"Array = {array}\\tTarget = {target}\")\n",
    "print(f\"Indeces for sum = {class_object.get_two_sum_indeces(array, target)}\")\n",
    "\n",
    "\n",
    "# Test case 2\n",
    "print(\"\\nTest case 2\")\n",
    "array, target = [3, 2, 4], 6\n",
    "print(f\"Array = {array}\\tTarget = {target}\")\n",
    "print(f\"Indeces for sum = {class_object.get_two_sum_indeces(array, target)}\")\n",
    "\n",
    "# Test case 3\n",
    "print(\"\\nTest case 3\")\n",
    "array, target = [3,3], 6\n",
    "print(f\"Array = {array}\\tTarget = {target}\")\n",
    "print(f\"Indeces for sum = {class_object.get_two_sum_indeces(array, target)}\")\n"
   ]
  },
  {
   "cell_type": "markdown",
   "id": "de58933d-d8a8-43be-ac8e-84159ca863b7",
   "metadata": {},
   "source": [
    "----\n",
    "----\n",
    "----"
   ]
  },
  {
   "cell_type": "markdown",
   "id": "eb4ec554-c496-490d-809c-637d3a3f9511",
   "metadata": {},
   "source": [
    "#### **2. You are given two non-empty linked lists representing two non-negative integers. The digits are stored in reverse order, and each of their nodes contains a single digit. Add the two numbers and return the sum as a linked list. You may assume the two numbers do not contain any leading zero, except the number 0 itself.**\n",
    "\n",
    " \n",
    "\n",
    "Example 1:\n",
    "Input: l1 = [2,4,3], l2 = [5,6,4]\n",
    "Output: [7,0,8]\n",
    "Explanation: 342 + 465 = 807.\n",
    "\n",
    "\n",
    "Example 2:\n",
    "Input: l1 = [0], l2 = [0]\n",
    "Output: [0]\n",
    "\n",
    "\n",
    "Example 3:\n",
    "Input: l1 = [9,9,9,9,9,9,9], l2 = [9,9,9,9]\n",
    "Output: [8,9,9,9,0,0,0,1]\n",
    "\n",
    " \n",
    "\n",
    "Constraints:\n",
    "    The number of nodes in each linked list is in the range [1, 100].\n",
    "    0 <= Node.val <= 9\n",
    "    It is guaranteed that the list represents a number that does not have leading zeros.\n",
    "\n"
   ]
  },
  {
   "cell_type": "code",
   "execution_count": 82,
   "id": "928e7f08-0a98-48f2-84d4-b45ae6cee066",
   "metadata": {},
   "outputs": [],
   "source": [
    "class ListNode:\n",
    "    def __init__(self, value=0, next=None):\n",
    "        self.value = value\n",
    "        self.next = next\n",
    "\n",
    "ll_1 = ListNode(2)\n",
    "node_2 = ListNode(4)\n",
    "node_3 = ListNode(3)\n",
    "ll_1.next = node_2\n",
    "node_2.next = node_3\n",
    "\n",
    "ll_2 = ListNode(5)\n",
    "node_2 = ListNode(6)\n",
    "node_3 = ListNode(4)\n",
    "ll_2.next = node_2\n",
    "node_2.next = node_3"
   ]
  },
  {
   "cell_type": "code",
   "execution_count": 83,
   "id": "95b1b0c6-a579-4494-b20e-a9ffc775b369",
   "metadata": {},
   "outputs": [],
   "source": [
    "def add_two_lls(ll_1, ll_2):\n",
    "    dummyHead = ListNode(0);\n",
    "    p = ll_1 \n",
    "    q = ll_2 \n",
    "    curr = dummyHead\n",
    "    carry = 0\n",
    "    while (p or q ):\n",
    "        x = p.value if(p) else 0\n",
    "        y = q.value if(q) else 0\n",
    "        sum = carry + x + y;\n",
    "        carry = sum // 10;\n",
    "        curr.next =ListNode(sum % 10);\n",
    "        curr = curr.next;\n",
    "        if (p): p = p.next;\n",
    "        if (q): q = q.next;\n",
    "        \n",
    "    if (carry > 0):\n",
    "        curr.next = ListNode(carry);\n",
    "\n",
    "    return dummyHead.next;"
   ]
  },
  {
   "cell_type": "code",
   "execution_count": 84,
   "id": "fc3f69dd-d0d9-4cda-b3d1-d8b133afb171",
   "metadata": {},
   "outputs": [],
   "source": [
    "res = add_two_lls(ll_1, ll_2)"
   ]
  },
  {
   "cell_type": "code",
   "execution_count": 85,
   "id": "34a1f7fc-81f0-412f-b6a4-b8145bfadc6a",
   "metadata": {},
   "outputs": [
    {
     "name": "stdout",
     "output_type": "stream",
     "text": [
      "7 -- > 0 -- > 8 -- > "
     ]
    }
   ],
   "source": [
    "while(res):\n",
    "    print(f\"{res.value} -- > \", end=\"\")\n",
    "    res = res.next"
   ]
  },
  {
   "cell_type": "code",
   "execution_count": null,
   "id": "9c49da92-ba5a-449c-aaed-8498194261f9",
   "metadata": {},
   "outputs": [],
   "source": []
  }
 ],
 "metadata": {
  "kernelspec": {
   "display_name": "Python 3 (ipykernel)",
   "language": "python",
   "name": "python3"
  },
  "language_info": {
   "codemirror_mode": {
    "name": "ipython",
    "version": 3
   },
   "file_extension": ".py",
   "mimetype": "text/x-python",
   "name": "python",
   "nbconvert_exporter": "python",
   "pygments_lexer": "ipython3",
   "version": "3.8.10"
  }
 },
 "nbformat": 4,
 "nbformat_minor": 5
}
