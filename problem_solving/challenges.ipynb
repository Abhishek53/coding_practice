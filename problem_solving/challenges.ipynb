{
 "cells": [
  {
   "cell_type": "markdown",
   "id": "7fbe2d7a-2514-48de-8bd3-984c1c3c7018",
   "metadata": {},
   "source": [
    "* Author : abhishekr.ar53@gmail.com\n",
    "* Date : **5th MAR 2022**\n",
    "----\n",
    "\n",
    "### **Given an array of integers nums and an integer target, return indices of the two numbers such that they add up to target. You may assume that each input would have exactly one solution, and you may not use the same element twice. You can return the answer in any order.**\n",
    "\n",
    "Example 1:\n",
    "\n",
    "Input: nums = [2,7,11,15], target = 9\n",
    "Output: [0,1]\n",
    "Explanation: Because nums[0] + nums[1] == 9, we return [0, 1].\n",
    "\n",
    "Example 2:\n",
    "\n",
    "Input: nums = [3,2,4], target = 6\n",
    "Output: [1,2]\n",
    "\n",
    "Example 3:\n",
    "\n",
    "Input: nums = [3,3], target = 6\n",
    "Output: [0,1]\n",
    "\n",
    "Constraints:\n",
    "\n",
    "    2 <= nums.length <= 104\n",
    "    -109 <= nums[i] <= 109\n",
    "    -109 <= target <= 109\n",
    "    Only one valid answer exists.\n",
    "\n",
    " \n",
    "Follow-up: Can you come up with an algorithm that is less than O(n2) time complexity?"
   ]
  },
  {
   "cell_type": "markdown",
   "id": "c4de478e-dc64-45f8-b4e2-08acb096f460",
   "metadata": {
    "tags": []
   },
   "source": [
    "## **1.BRUTE FORECE** : \n",
    "* Time Complexity = O(n2)\n",
    "* Space complexity = O(1)"
   ]
  },
  {
   "cell_type": "code",
   "execution_count": 12,
   "id": "d9b22d3f-2359-4c8f-880f-a48ec4b34bc2",
   "metadata": {},
   "outputs": [],
   "source": [
    "from typing import List\n",
    "class TwoSum:\n",
    "    def get_two_sum_indeces(self, number_list:List[int], target:int) -> List[int]:\n",
    "        length_of_array = len(number_list)\n",
    "        for i in range(0 , length_of_array): #nested iterate through array and find the sum\n",
    "            for j in range(i+ 1, length_of_array):\n",
    "                if(number_list[i] + number_list[j] == target):\n",
    "                    return [i,j]\n",
    "                \n",
    "class_object = TwoSum()"
   ]
  },
  {
   "cell_type": "code",
   "execution_count": 13,
   "id": "5eb9c058-6f02-404e-aa48-d0659ca5b331",
   "metadata": {},
   "outputs": [
    {
     "name": "stdout",
     "output_type": "stream",
     "text": [
      "Test case 1\n",
      "Array = [2, 7, 11, 15]\tTarget = 9\n",
      "Indeces for sum = [0, 1]\n",
      "\n",
      "Test case 2\n",
      "Array = [3, 2, 4]\tTarget = 6\n",
      "Indeces for sum = [1, 2]\n",
      "\n",
      "Test case 3\n",
      "Array = [3, 3]\tTarget = 6\n",
      "Indeces for sum = [0, 1]\n"
     ]
    }
   ],
   "source": [
    "# Test case 1\n",
    "print(\"Test case 1\")\n",
    "array, target = [2,7,11,15], 9\n",
    "print(f\"Array = {array}\\tTarget = {target}\")\n",
    "print(f\"Indeces for sum = {class_object.get_two_sum_indeces(array, target)}\")\n",
    "\n",
    "\n",
    "# Test case 2\n",
    "print(\"\\nTest case 2\")\n",
    "array, target = [3, 2, 4], 6\n",
    "print(f\"Array = {array}\\tTarget = {target}\")\n",
    "print(f\"Indeces for sum = {class_object.get_two_sum_indeces(array, target)}\")\n",
    "\n",
    "# Test case 3\n",
    "print(\"\\nTest case 3\")\n",
    "array, target = [3,3], 6\n",
    "print(f\"Array = {array}\\tTarget = {target}\")\n",
    "print(f\"Indeces for sum = {class_object.get_two_sum_indeces(array, target)}\")\n"
   ]
  },
  {
   "cell_type": "markdown",
   "id": "60584956-9fef-4341-b3ad-95140f2818d1",
   "metadata": {},
   "source": [
    "----"
   ]
  },
  {
   "cell_type": "markdown",
   "id": "6587f9ca-6775-41fd-9d38-1c11624c2310",
   "metadata": {},
   "source": [
    "## **Follow-up: Can you come up with an algorithm that is less than O(n2) time complexity?**\n",
    "* Time Complexity = O(n)\n",
    "* Space complexity = O(n)"
   ]
  },
  {
   "cell_type": "code",
   "execution_count": 16,
   "id": "9d1ea271-6d42-4ad8-a741-9b02b6f23200",
   "metadata": {},
   "outputs": [],
   "source": [
    "from typing import List\n",
    "class TwoSum:\n",
    "    def get_two_sum_indeces(self, number_list:List[int], target:int) -> List[int]:\n",
    "\n",
    "        hash_mapper = {}\n",
    "        \n",
    "        for index, value in enumerate(number_list): #iterate through array keep track of visited number if visited number makes sum with current number return indeces else push current number to tracker\n",
    "            expected_number = target - number_list[index]\n",
    "            if expected_number in hash_mapper:\n",
    "                return [hash_mapper[expected_number], index] #get index for the expected number\n",
    "            else:\n",
    "                hash_mapper[value] = index #store the existing index of the current value\n",
    "            \n",
    "                \n",
    "class_object = TwoSum()"
   ]
  },
  {
   "cell_type": "code",
   "execution_count": 17,
   "id": "7bf4340a-8089-4d8d-894e-c2f4d5202b2a",
   "metadata": {},
   "outputs": [
    {
     "name": "stdout",
     "output_type": "stream",
     "text": [
      "Test case 1\n",
      "Array = [2, 7, 11, 15]\tTarget = 9\n",
      "Indeces for sum = [0, 1]\n",
      "\n",
      "Test case 2\n",
      "Array = [3, 2, 4]\tTarget = 6\n",
      "Indeces for sum = [1, 2]\n",
      "\n",
      "Test case 3\n",
      "Array = [3, 3]\tTarget = 6\n",
      "Indeces for sum = [0, 1]\n"
     ]
    }
   ],
   "source": [
    "# Test case 1\n",
    "print(\"Test case 1\")\n",
    "array, target = [2,7,11,15], 9\n",
    "print(f\"Array = {array}\\tTarget = {target}\")\n",
    "print(f\"Indeces for sum = {class_object.get_two_sum_indeces(array, target)}\")\n",
    "\n",
    "\n",
    "# Test case 2\n",
    "print(\"\\nTest case 2\")\n",
    "array, target = [3, 2, 4], 6\n",
    "print(f\"Array = {array}\\tTarget = {target}\")\n",
    "print(f\"Indeces for sum = {class_object.get_two_sum_indeces(array, target)}\")\n",
    "\n",
    "# Test case 3\n",
    "print(\"\\nTest case 3\")\n",
    "array, target = [3,3], 6\n",
    "print(f\"Array = {array}\\tTarget = {target}\")\n",
    "print(f\"Indeces for sum = {class_object.get_two_sum_indeces(array, target)}\")\n"
   ]
  },
  {
   "cell_type": "code",
   "execution_count": null,
   "id": "46ffe11d-eace-4978-bb0a-9d27684336d6",
   "metadata": {},
   "outputs": [],
   "source": []
  }
 ],
 "metadata": {
  "kernelspec": {
   "display_name": "Python 3 (ipykernel)",
   "language": "python",
   "name": "python3"
  },
  "language_info": {
   "codemirror_mode": {
    "name": "ipython",
    "version": 3
   },
   "file_extension": ".py",
   "mimetype": "text/x-python",
   "name": "python",
   "nbconvert_exporter": "python",
   "pygments_lexer": "ipython3",
   "version": "3.8.10"
  }
 },
 "nbformat": 4,
 "nbformat_minor": 5
}
