{
 "cells": [
  {
   "cell_type": "markdown",
   "id": "018e31f1-4e19-4320-a17a-db7b63acd49e",
   "metadata": {},
   "source": [
    "* Author : abhishekr.ar53@gmail.com\n",
    "* Date : **5th MAR 2022**\n",
    "----\n",
    "# **Check is power of 3**"
   ]
  },
  {
   "cell_type": "code",
   "execution_count": 72,
   "id": "3305adba-2270-45e7-88b6-3bc522e08b2e",
   "metadata": {},
   "outputs": [],
   "source": [
    "\n",
    "import math\n",
    "#method1\n",
    "def isPowerOfThree(n):\n",
    "    if n <= 0:\n",
    "        return False\n",
    "    elif n%3 == 0:\n",
    "        return isPowerOfThree(n//3)\n",
    "    elif n == 1:\n",
    "        return True\n",
    "    return False\n",
    "\n",
    "#method2\n",
    "def isPowerOfThree1(n):\n",
    "    if not n or n<0:\n",
    "        return False\n",
    "    \n",
    "    elif math.log10(n) / math.log10(2) % 1 == 0:\n",
    "        return True\n",
    "    return False"
   ]
  },
  {
   "cell_type": "code",
   "execution_count": 78,
   "id": "1b1771fd-8233-40e0-90e7-448bcaa5c8ce",
   "metadata": {},
   "outputs": [
    {
     "data": {
      "text/plain": [
       "True"
      ]
     },
     "execution_count": 78,
     "metadata": {},
     "output_type": "execute_result"
    }
   ],
   "source": [
    "isPowerOfThree1(8)"
   ]
  }
 ],
 "metadata": {
  "kernelspec": {
   "display_name": "Python 3 (ipykernel)",
   "language": "python",
   "name": "python3"
  },
  "language_info": {
   "codemirror_mode": {
    "name": "ipython",
    "version": 3
   },
   "file_extension": ".py",
   "mimetype": "text/x-python",
   "name": "python",
   "nbconvert_exporter": "python",
   "pygments_lexer": "ipython3",
   "version": "3.8.10"
  }
 },
 "nbformat": 4,
 "nbformat_minor": 5
}
