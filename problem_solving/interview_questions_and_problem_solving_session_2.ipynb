{
 "cells": [
  {
   "cell_type": "markdown",
   "id": "least-hands",
   "metadata": {},
   "source": [
    "# <center><u>Interview questions and problem solving session 2 </u></center>\n",
    "\n",
    "\n",
    "##  <font color=\"red\"> PROBLEM STATEMENT : \n",
    "# <font color=\"red\"> 1. Given an sorted list L of n elements with values or records L(0) . . . . . L(n-1) and target value T, find the target T in L. </font>\n",
    "\n",
    "\n",
    "## <u>Appraoch:</u>    \n",
    "    \n",
    "### <b>Binary Search :</b> \n",
    "* #### Finds the position of target element in sorted list. \n",
    "* #### Binary search is not applicable for unsorted list.\n",
    "<br>\n",
    "    \n",
    "* ### <u>Working:</u>\n",
    "    * #### Matches middle element of the list in every iteration. If match found returns postion.\n",
    "    * #### Otherwise, It splits the array into 2 half searches either in left half or right half.\n",
    "    \n",
    "<img src=\"images/binary_search.png\" />\n",
    "    \n",
    "    \n",
    "* ### <u>Psuedocode:</u>\n",
    "    \n",
    "    * #### step 1 : Set L = 0 and R =0\n",
    "    * #### step 2 : If L > R, Search unsuccssful terminate.\n",
    "    * #### step 3 : set m = (L + R) // 2\n",
    "    * #### step 4 : T == Array[m], Search successful return m.\n",
    "    * #### step 5 : if T > Array[m], set L = m + 1, go to step 2\n",
    "    * #### step 6 : if T < Array[m], set R = m - 1, go to step 2\n",
    "                                    \n",
    "<br >\n",
    "    \n",
    "<img src=\"images/iterative_binary_search_snippet.jpg\" />\n",
    "        \n",
    "<br>\n",
    "    \n",
    "<img src=\"images/binary_search_tracing.jpg\" />\n",
    "\n"
   ]
  },
  {
   "cell_type": "code",
   "execution_count": 1,
   "id": "described-clearance",
   "metadata": {},
   "outputs": [],
   "source": [
    "#binary search\n",
    "def binarySearch(arr, size, target):\n",
    "    \"\"\"\n",
    "    Args:\n",
    "    arr (list) : list of array elements\n",
    "    size (int) : Number of elements in the array\n",
    "    target (int) : Target element that has to be searched in the array arr\n",
    "    \n",
    "    Returns:\n",
    "    index (int) : Position of target element if search successful otherwise returns -1\n",
    "    \"\"\"\n",
    "    \n",
    "    left, right = 0, size\n",
    "    mid = None\n",
    "    \n",
    "    while(left <= right):\n",
    "        \n",
    "        #compute mid index and match current mid element with target\n",
    "        mid = (left + right) // 2\n",
    "        if(arr[mid] == target):\n",
    "            return mid\n",
    "        \n",
    "        #as current mid doesn't match update l_index or r_index \n",
    "        if(arr[mid] < target):\n",
    "            left = mid + 1\n",
    "        elif(arr[mid] > target):\n",
    "            right = mid - 1\n",
    "        \n",
    "    return -1"
   ]
  },
  {
   "cell_type": "code",
   "execution_count": 4,
   "id": "collaborative-consistency",
   "metadata": {},
   "outputs": [
    {
     "name": "stdout",
     "output_type": "stream",
     "text": [
      "Do you want to perform binary search [Y/N]Y\n",
      "[3, 6, 9, 11, 15, 22, 38, 50, 72, 91]\n",
      "Enter the element you want to search :2\n",
      "Search is unsuccessful : 2 element could not be found in array\n",
      "\n"
     ]
    },
    {
     "ename": "KeyboardInterrupt",
     "evalue": "Interrupted by user",
     "output_type": "error",
     "traceback": [
      "\u001b[0;31m---------------------------------------------------------------------------\u001b[0m",
      "\u001b[0;31mKeyboardInterrupt\u001b[0m                         Traceback (most recent call last)",
      "\u001b[0;32m<ipython-input-4-662114e100c2>\u001b[0m in \u001b[0;36m<module>\u001b[0;34m\u001b[0m\n\u001b[1;32m      2\u001b[0m \u001b[0msize\u001b[0m \u001b[0;34m=\u001b[0m \u001b[0mlen\u001b[0m\u001b[0;34m(\u001b[0m\u001b[0marr\u001b[0m\u001b[0;34m)\u001b[0m\u001b[0;34m\u001b[0m\u001b[0;34m\u001b[0m\u001b[0m\n\u001b[1;32m      3\u001b[0m \u001b[0;34m\u001b[0m\u001b[0m\n\u001b[0;32m----> 4\u001b[0;31m \u001b[0;32mwhile\u001b[0m\u001b[0;34m(\u001b[0m\u001b[0minput\u001b[0m\u001b[0;34m(\u001b[0m\u001b[0;34m\"Do you want to perform binary search [Y/N]\"\u001b[0m\u001b[0;34m)\u001b[0m \u001b[0;34m==\u001b[0m \u001b[0;34m\"Y\"\u001b[0m\u001b[0;34m)\u001b[0m\u001b[0;34m:\u001b[0m\u001b[0;34m\u001b[0m\u001b[0;34m\u001b[0m\u001b[0m\n\u001b[0m\u001b[1;32m      5\u001b[0m \u001b[0;34m\u001b[0m\u001b[0m\n\u001b[1;32m      6\u001b[0m     \u001b[0mprint\u001b[0m\u001b[0;34m(\u001b[0m\u001b[0;34mf\"{arr}\"\u001b[0m\u001b[0;34m)\u001b[0m\u001b[0;34m\u001b[0m\u001b[0;34m\u001b[0m\u001b[0m\n",
      "\u001b[0;32m~/.local/lib/python3.8/site-packages/ipykernel/kernelbase.py\u001b[0m in \u001b[0;36mraw_input\u001b[0;34m(self, prompt)\u001b[0m\n\u001b[1;32m    846\u001b[0m                 \u001b[0;34m\"raw_input was called, but this frontend does not support input requests.\"\u001b[0m\u001b[0;34m\u001b[0m\u001b[0;34m\u001b[0m\u001b[0m\n\u001b[1;32m    847\u001b[0m             )\n\u001b[0;32m--> 848\u001b[0;31m         return self._input_request(str(prompt),\n\u001b[0m\u001b[1;32m    849\u001b[0m             \u001b[0mself\u001b[0m\u001b[0;34m.\u001b[0m\u001b[0m_parent_ident\u001b[0m\u001b[0;34m,\u001b[0m\u001b[0;34m\u001b[0m\u001b[0;34m\u001b[0m\u001b[0m\n\u001b[1;32m    850\u001b[0m             \u001b[0mself\u001b[0m\u001b[0;34m.\u001b[0m\u001b[0m_parent_header\u001b[0m\u001b[0;34m,\u001b[0m\u001b[0;34m\u001b[0m\u001b[0;34m\u001b[0m\u001b[0m\n",
      "\u001b[0;32m~/.local/lib/python3.8/site-packages/ipykernel/kernelbase.py\u001b[0m in \u001b[0;36m_input_request\u001b[0;34m(self, prompt, ident, parent, password)\u001b[0m\n\u001b[1;32m    890\u001b[0m             \u001b[0;32mexcept\u001b[0m \u001b[0mKeyboardInterrupt\u001b[0m\u001b[0;34m:\u001b[0m\u001b[0;34m\u001b[0m\u001b[0;34m\u001b[0m\u001b[0m\n\u001b[1;32m    891\u001b[0m                 \u001b[0;31m# re-raise KeyboardInterrupt, to truncate traceback\u001b[0m\u001b[0;34m\u001b[0m\u001b[0;34m\u001b[0m\u001b[0;34m\u001b[0m\u001b[0m\n\u001b[0;32m--> 892\u001b[0;31m                 \u001b[0;32mraise\u001b[0m \u001b[0mKeyboardInterrupt\u001b[0m\u001b[0;34m(\u001b[0m\u001b[0;34m\"Interrupted by user\"\u001b[0m\u001b[0;34m)\u001b[0m \u001b[0;32mfrom\u001b[0m \u001b[0;32mNone\u001b[0m\u001b[0;34m\u001b[0m\u001b[0;34m\u001b[0m\u001b[0m\n\u001b[0m\u001b[1;32m    893\u001b[0m             \u001b[0;32mexcept\u001b[0m \u001b[0mException\u001b[0m \u001b[0;32mas\u001b[0m \u001b[0me\u001b[0m\u001b[0;34m:\u001b[0m\u001b[0;34m\u001b[0m\u001b[0;34m\u001b[0m\u001b[0m\n\u001b[1;32m    894\u001b[0m                 \u001b[0mself\u001b[0m\u001b[0;34m.\u001b[0m\u001b[0mlog\u001b[0m\u001b[0;34m.\u001b[0m\u001b[0mwarning\u001b[0m\u001b[0;34m(\u001b[0m\u001b[0;34m\"Invalid Message:\"\u001b[0m\u001b[0;34m,\u001b[0m \u001b[0mexc_info\u001b[0m\u001b[0;34m=\u001b[0m\u001b[0;32mTrue\u001b[0m\u001b[0;34m)\u001b[0m\u001b[0;34m\u001b[0m\u001b[0;34m\u001b[0m\u001b[0m\n",
      "\u001b[0;31mKeyboardInterrupt\u001b[0m: Interrupted by user"
     ]
    }
   ],
   "source": [
    "arr = [3, 6, 9 , 11, 15, 22, 38, 50, 72, 91]\n",
    "size = len(arr)\n",
    "\n",
    "while(input(\"Do you want to perform binary search [Y/N]\") == \"Y\"):\n",
    "    \n",
    "    print(f\"{arr}\")\n",
    "    target = int(input(\"Enter the element you want to search :\"))\n",
    "    position = binarySearch(arr, size, target)\n",
    "    if(position == -1):\n",
    "        print(f\"Search is unsuccessful : {target} element could not be found in array\\n\")\n",
    "    else:\n",
    "        print(f\"Search is successful : {target} element found in postion {position + 1}\\n\")"
   ]
  },
  {
   "cell_type": "code",
   "execution_count": 25,
   "id": "female-algeria",
   "metadata": {},
   "outputs": [],
   "source": [
    "#binary search\n",
    "def recursiveBinarySearch(arr, size, target, left, right):\n",
    "    \"\"\"\n",
    "    Args:\n",
    "    arr (list) : list of array elements\n",
    "    size (int) : Number of elements in the array\n",
    "    target (int) : Target element that has to be searched in the array arr\n",
    "    \n",
    "    Returns:\n",
    "    index (int) : Position of target element if search successful otherwise returns -1\n",
    "    \"\"\"\n",
    "    \n",
    "    \n",
    "    if(left <= right):\n",
    "        \n",
    "        #compute mid index and match current mid element with target\n",
    "        mid = (left + right) // 2\n",
    "        if(arr[mid] == target):\n",
    "            return mid\n",
    "        \n",
    "        #as current mid doesn't match update l_index or r_index \n",
    "        if(arr[mid] < target):\n",
    "            return recursiveBinarySearch(arr, size, target, mid + 1, right)\n",
    "        elif(arr[mid] > target):\n",
    "            return recursiveBinarySearch(arr, size, target, left, mid - 1)\n",
    "    else:\n",
    "        return -1"
   ]
  },
  {
   "cell_type": "code",
   "execution_count": 26,
   "id": "intense-virus",
   "metadata": {},
   "outputs": [
    {
     "name": "stdout",
     "output_type": "stream",
     "text": [
      "Do you want to perform binary search [Y/N]Y\n",
      "[3, 6, 9, 11, 15, 22, 38, 50, 72, 91]\n",
      "Enter the element you want to search :52\n",
      "Search is unsuccessful : 52 element could not be found in array\n",
      "\n",
      "Do you want to perform binary search [Y/N]Y\n",
      "[3, 6, 9, 11, 15, 22, 38, 50, 72, 91]\n",
      "Enter the element you want to search :50\n",
      "Search is successful : 50 element found in postion 8\n",
      "\n",
      "Do you want to perform binary search [Y/N]Y\n",
      "[3, 6, 9, 11, 15, 22, 38, 50, 72, 91]\n",
      "Enter the element you want to search :11\n",
      "Search is successful : 11 element found in postion 4\n",
      "\n",
      "Do you want to perform binary search [Y/N]N\n"
     ]
    }
   ],
   "source": [
    "arr = [3, 6, 9 , 11, 15, 22, 38, 50, 72, 91]\n",
    "size = len(arr)\n",
    "\n",
    "while(input(\"Do you want to perform binary search [Y/N]\") == \"Y\"):\n",
    "    \n",
    "    print(f\"{arr}\")\n",
    "    target = int(input(\"Enter the element you want to search :\"))\n",
    "    position = recursiveBinarySearch(arr, size, target, 0, size)\n",
    "    if(position == -1):\n",
    "        print(f\"Search is unsuccessful : {target} element could not be found in array\\n\")\n",
    "    else:\n",
    "        print(f\"Search is successful : {target} element found in postion {position + 1}\\n\")"
   ]
  },
  {
   "cell_type": "code",
   "execution_count": null,
   "id": "parallel-catalog",
   "metadata": {},
   "outputs": [],
   "source": []
  },
  {
   "cell_type": "markdown",
   "id": "organic-cache",
   "metadata": {},
   "source": [
    "# 1. Time Complexity \n",
    "\n",
    "\n",
    "#  T(n) = T(n / 2) + 1 </font>\n",
    "\n",
    "## <font color=\"red\"> BINARY SEARCH : T(n) = O(log(2) n) </font>\n",
    "\n",
    "<br>\n",
    "\n",
    "# 2. Space Complexity\n",
    "\n",
    "## <font color=\"red\"> BINARY SEARCH : S(n) = O(1) </font>"
   ]
  },
  {
   "cell_type": "code",
   "execution_count": null,
   "id": "precious-arbor",
   "metadata": {},
   "outputs": [],
   "source": []
  },
  {
   "cell_type": "markdown",
   "id": "suspected-fence",
   "metadata": {},
   "source": [
    "# KEEP LEARNING, KEEP TEACHING, KEEP SHARING !!!\n",
    "# Thank YOU, Lets meet in next tutorial 🙂"
   ]
  },
  {
   "cell_type": "markdown",
   "id": "legitimate-organic",
   "metadata": {},
   "source": []
  }
 ],
 "metadata": {
  "kernelspec": {
   "display_name": "Python 3",
   "language": "python",
   "name": "python3"
  },
  "language_info": {
   "codemirror_mode": {
    "name": "ipython",
    "version": 3
   },
   "file_extension": ".py",
   "mimetype": "text/x-python",
   "name": "python",
   "nbconvert_exporter": "python",
   "pygments_lexer": "ipython3",
   "version": "3.8.5"
  }
 },
 "nbformat": 4,
 "nbformat_minor": 5
}
