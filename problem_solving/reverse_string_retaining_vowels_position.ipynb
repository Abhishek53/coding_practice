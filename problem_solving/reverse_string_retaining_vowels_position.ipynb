{
 "cells": [
  {
   "cell_type": "markdown",
   "id": "7968a90c-bddc-4bf2-9440-5673abaf418a",
   "metadata": {},
   "source": [
    "* Author : abhishekr.ar53@gmail.com\n",
    "* Date : **5th MAR 2022**\n",
    "----\n",
    "# **Reverse a string vowels retain the same postion**"
   ]
  },
  {
   "cell_type": "code",
   "execution_count": null,
   "id": "2b503093-6e87-4aeb-99fc-f5dbb477ef5f",
   "metadata": {},
   "outputs": [],
   "source": [
    "vowels = list(\"aeiou\")\n",
    "string = \"abhishek\""
   ]
  },
  {
   "cell_type": "code",
   "execution_count": null,
   "id": "d6dddaad-0c75-4fd6-9829-2698691ab551",
   "metadata": {},
   "outputs": [
    {
     "data": {
      "text/plain": [
       "'ydacibeok'"
      ]
     },
     "execution_count": 50,
     "metadata": {},
     "output_type": "execute_result"
    }
   ],
   "source": [
    "def reverseStringHoldingVowels(string):\n",
    "    string = list(string)\n",
    "    i, j = 0, len(string) - 1\n",
    "    \n",
    "    while i < j:\n",
    "        \n",
    "        if string[i] in vowels:\n",
    "            i += 1\n",
    "            continue\n",
    "        \n",
    "        if string[j] in vowels:\n",
    "            j -= 1\n",
    "            continue\n",
    "        \n",
    "        string[i], string[j] = string[j], string[i]\n",
    "        i += 1\n",
    "        j -= 1\n",
    "    \n",
    "    return \"\".join(string)\n",
    "\n",
    "reverseStringHoldingVowels(\"kbacideoy\")"
   ]
  },
  {
   "cell_type": "code",
   "execution_count": null,
   "id": "a816dcaf-75d3-4358-947b-d26b064cabd7",
   "metadata": {},
   "outputs": [
    {
     "data": {
      "text/plain": [
       "'aehiihea'"
      ]
     },
     "execution_count": 40,
     "metadata": {},
     "output_type": "execute_result"
    }
   ],
   "source": [
    "\"\".join(reversed_string)"
   ]
  }
 ],
 "metadata": {
  "kernelspec": {
   "display_name": "Python 3 (ipykernel)",
   "language": "python",
   "name": "python3"
  },
  "language_info": {
   "codemirror_mode": {
    "name": "ipython",
    "version": 3
   },
   "file_extension": ".py",
   "mimetype": "text/x-python",
   "name": "python",
   "nbconvert_exporter": "python",
   "pygments_lexer": "ipython3",
   "version": "3.8.10"
  }
 },
 "nbformat": 4,
 "nbformat_minor": 5
}
