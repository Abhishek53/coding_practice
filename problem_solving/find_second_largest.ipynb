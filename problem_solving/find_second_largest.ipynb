{
 "cells": [
  {
   "cell_type": "markdown",
   "id": "14224a0b-cd34-46c4-9f0c-b8f460e756cd",
   "metadata": {},
   "source": [
    "* Author : abhishekr.ar53@gmail.com\n",
    "* Date : **5th MAR 2022**\n",
    "----\n",
    "# **Find the second largest element in a list in an optimal way.**"
   ]
  },
  {
   "cell_type": "code",
   "execution_count": 20,
   "id": "e6cb0332-7709-4954-ae6a-cbc669440952",
   "metadata": {},
   "outputs": [
    {
     "data": {
      "text/plain": [
       "[2, 12, 15, 23, 24, 26, 26, 32, 45, 55, 56, 62]"
      ]
     },
     "execution_count": 20,
     "metadata": {},
     "output_type": "execute_result"
    }
   ],
   "source": [
    "ls = [12, 55, 56, 2, 45, 32, 62, 15,24,26,23,26]\n",
    "\n",
    "\n",
    "def swap(x, y):\n",
    "    temp = x\n",
    "    x = y\n",
    "    y = temp\n",
    "    return x, y\n",
    "\n",
    "def bubbleSort(a):\n",
    "    for i in range(0, len(a)):\n",
    "        for j in range(0, len(a) - i - 1):\n",
    "            if(a[j] > a[j + 1]):\n",
    "                a[j], a[j + 1] = swap(a[j], a[j + 1])\n",
    "    return a\n",
    "                \n",
    "sorted_ls = bubbleSort(ls)\n",
    "sorted_ls"
   ]
  },
  {
   "cell_type": "code",
   "execution_count": 27,
   "id": "682e9c67-60c1-439c-b89a-5e3b55b72de3",
   "metadata": {},
   "outputs": [
    {
     "data": {
      "text/plain": [
       "56"
      ]
     },
     "execution_count": 27,
     "metadata": {},
     "output_type": "execute_result"
    }
   ],
   "source": [
    "max([x for x in ls if x < max(ls)])"
   ]
  },
  {
   "cell_type": "code",
   "execution_count": 26,
   "id": "2f1ea705-42f1-4994-ab24-dc25cc2a629d",
   "metadata": {},
   "outputs": [
    {
     "data": {
      "text/plain": [
       "56"
      ]
     },
     "execution_count": 26,
     "metadata": {},
     "output_type": "execute_result"
    }
   ],
   "source": [
    "sorted_ls[-2]"
   ]
  }
 ],
 "metadata": {
  "kernelspec": {
   "display_name": "Python 3 (ipykernel)",
   "language": "python",
   "name": "python3"
  },
  "language_info": {
   "codemirror_mode": {
    "name": "ipython",
    "version": 3
   },
   "file_extension": ".py",
   "mimetype": "text/x-python",
   "name": "python",
   "nbconvert_exporter": "python",
   "pygments_lexer": "ipython3",
   "version": "3.8.10"
  }
 },
 "nbformat": 4,
 "nbformat_minor": 5
}
