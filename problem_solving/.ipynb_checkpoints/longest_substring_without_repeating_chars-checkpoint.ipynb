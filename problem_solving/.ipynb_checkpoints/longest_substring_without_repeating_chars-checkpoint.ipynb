{
 "cells": [
  {
   "cell_type": "markdown",
   "id": "ccb9ee0f-ac47-402d-b21e-33011149d66f",
   "metadata": {},
   "source": [
    "* Author : abhishekr.ar53@gmail.com\n",
    "* Date : **5th MAR 2022**\n",
    "----\n",
    "**Given a string s, find the length of the longest substring without repeating characters.**\n",
    "\n",
    " \n",
    "Example 1:\n",
    "\n",
    "Input: s = \"abcabcbb\"\n",
    "Output: 3\n",
    "Explanation: The answer is \"abc\", with the length of 3.\n",
    "\n",
    "Example 2:\n",
    "Input: s = \"bbbbb\"\n",
    "Output: 1\n",
    "Explanation: The answer is \"b\", with the length of 1.\n",
    "\n",
    "Example 3:\n",
    "Input: s = \"pwwkew\"\n",
    "Output: 3\n",
    "Explanation: The answer is \"wke\", with the length of 3.\n",
    "\n",
    "Notice that the answer must be a substring, \"pwke\" is a subsequence and not a substring.\n",
    "\n",
    "\n",
    "Constraints:\n",
    "    0 <= s.length <= 5 * 104\n",
    "    s consists of English letters, digits, symbols and spaces."
   ]
  },
  {
   "cell_type": "code",
   "execution_count": 4,
   "id": "6824ba93-73e7-4f17-8092-bcc5ac269699",
   "metadata": {},
   "outputs": [],
   "source": [
    "class LSS:\n",
    "    def lengthOfLongestSubstring(self, s: str) -> int:\n",
    "        start = 0\n",
    "        max_sub_string_length = 0\n",
    "        hashmap_char = {}\n",
    "        \n",
    "        for i, char in enumerate(s):\n",
    "            \n",
    "            if char in hashmap_char and start <= hashmap_char[s[i]]:\n",
    "                start = hashmap_char[s[i]] + 1\n",
    "                \n",
    "            else:\n",
    "                max_sub_string_length = max(max_sub_string_length, i - start + 1)\n",
    "                \n",
    "            hashmap_char[s[i]] = i\n",
    "                \n",
    "        return max_sub_string_length\n",
    "                "
   ]
  },
  {
   "cell_type": "code",
   "execution_count": 7,
   "id": "21c4076c-33b9-428e-b2ed-c3d02779e3d5",
   "metadata": {},
   "outputs": [
    {
     "name": "stdout",
     "output_type": "stream",
     "text": [
      "3\n",
      "1\n",
      "3\n"
     ]
    }
   ],
   "source": [
    "class_obj = LSS()\n",
    "print(class_obj.lengthOfLongestSubstring(\"abcabcbb\"))\n",
    "print(class_obj.lengthOfLongestSubstring(\"bbbbb\"))\n",
    "print(class_obj.lengthOfLongestSubstring(\"pwwkew\"))\n"
   ]
  }
 ],
 "metadata": {
  "kernelspec": {
   "display_name": "Python 3 (ipykernel)",
   "language": "python",
   "name": "python3"
  },
  "language_info": {
   "codemirror_mode": {
    "name": "ipython",
    "version": 3
   },
   "file_extension": ".py",
   "mimetype": "text/x-python",
   "name": "python",
   "nbconvert_exporter": "python",
   "pygments_lexer": "ipython3",
   "version": "3.8.10"
  }
 },
 "nbformat": 4,
 "nbformat_minor": 5
}
