{
 "cells": [
  {
   "cell_type": "markdown",
   "id": "least-hands",
   "metadata": {},
   "source": [
    "# <center><u>Interview questions and problem solving session 2 </u></center>\n",
    "\n",
    "\n",
    "##  <font color=\"red\"> PROBLEM STATEMENT : \n",
    "# <font color=\"red\"> 1. Given an sorted list L of n elements with values or records L(0) . . . . . L(n-1) and target value T, find the target T in L. </font>\n",
    "\n",
    "\n",
    "## <u>Appraoch:</u>    \n",
    "    \n",
    "### <b>Binary Search :</b> \n",
    "* #### Finds the position of target element in sorted list. \n",
    "* #### Binary search is not applicable for unsorted list.\n",
    "<br>\n",
    "    \n",
    "* ### <u>Working:</u>\n",
    "    * #### Matches middle element of the list in every iteration. If match found returns postion.\n",
    "    * #### Otherwise, It splits the array into 2 half searches either in left half or right half.\n",
    "    \n",
    "<img src=\"images/binary_search.png\" />\n",
    "    \n",
    "    \n",
    "* ### <u>Psuedocode:</u>\n",
    "    \n",
    "    * #### step 1 : Set L = 0 and R =0\n",
    "    * #### step 2 : If L > R, Search unsuccssful terminate.\n",
    "    * #### step 3 : set m = (L + R) // 2\n",
    "    * #### step 4 : T == Array[m], Search successful return m.\n",
    "    * #### step 5 : if T > Array[m], set L = m + 1, go to step 2\n",
    "    * #### step 6 : if T < Array[m], set R = m - 1, go to step 2\n",
    "                                    \n",
    "<br >\n",
    "    \n",
    "<img src=\"images/iterative_binary_search_snippet.jpg\" />\n",
    "        \n",
    "<br>\n",
    "    \n",
    "<img src=\"images/binary_search_tracing.jpg\" />\n",
    "\n"
   ]
  },
  {
   "cell_type": "code",
   "execution_count": 1,
   "id": "described-clearance",
   "metadata": {},
   "outputs": [],
   "source": [
    "#binary search\n",
    "def binarySearch(arr, size, target):\n",
    "    \"\"\"\n",
    "    Args:\n",
    "    arr (list) : list of array elements\n",
    "    size (int) : Number of elements in the array\n",
    "    target (int) : Target element that has to be searched in the array arr\n",
    "    \n",
    "    Returns:\n",
    "    index (int) : Position of target element if search successful otherwise returns -1\n",
    "    \"\"\"\n",
    "    \n",
    "    left, right = 0, size\n",
    "    mid = None\n",
    "    \n",
    "    while(left <= right):\n",
    "        \n",
    "        #compute mid index and match current mid element with target\n",
    "        mid = (left + right) // 2\n",
    "        if(arr[mid] == target):\n",
    "            return mid\n",
    "        \n",
    "        #as current mid doesn't match update l_index or r_index \n",
    "        if(arr[mid] < target):\n",
    "            left = mid + 1\n",
    "        elif(arr[mid] > target):\n",
    "            right = mid - 1\n",
    "        \n",
    "    return -1"
   ]
  },
  {
   "cell_type": "code",
   "execution_count": 4,
   "id": "collaborative-consistency",
   "metadata": {},
   "outputs": [
    {
     "name": "stdout",
     "output_type": "stream",
     "text": [
      "Do you want to perform binary search [Y/N]Y\n",
      "[3, 6, 9, 11, 15, 22, 38, 50, 72, 91]\n",
      "Enter the element you want to search :2\n",
      "Search is unsuccessful : 2 element could not be found in array\n",
      "\n"
     ]
    },
    {
     "ename": "KeyboardInterrupt",
     "evalue": "Interrupted by user",
     "output_type": "error",
     "traceback": [
      "\u001b[0;31m---------------------------------------------------------------------------\u001b[0m",
      "\u001b[0;31mKeyboardInterrupt\u001b[0m                         Traceback (most recent call last)",
      "\u001b[0;32m<ipython-input-4-662114e100c2>\u001b[0m in \u001b[0;36m<module>\u001b[0;34m\u001b[0m\n\u001b[1;32m      2\u001b[0m \u001b[0msize\u001b[0m \u001b[0;34m=\u001b[0m \u001b[0mlen\u001b[0m\u001b[0;34m(\u001b[0m\u001b[0marr\u001b[0m\u001b[0;34m)\u001b[0m\u001b[0;34m\u001b[0m\u001b[0;34m\u001b[0m\u001b[0m\n\u001b[1;32m      3\u001b[0m \u001b[0;34m\u001b[0m\u001b[0m\n\u001b[0;32m----> 4\u001b[0;31m \u001b[0;32mwhile\u001b[0m\u001b[0;34m(\u001b[0m\u001b[0minput\u001b[0m\u001b[0;34m(\u001b[0m\u001b[0;34m\"Do you want to perform binary search [Y/N]\"\u001b[0m\u001b[0;34m)\u001b[0m \u001b[0;34m==\u001b[0m \u001b[0;34m\"Y\"\u001b[0m\u001b[0;34m)\u001b[0m\u001b[0;34m:\u001b[0m\u001b[0;34m\u001b[0m\u001b[0;34m\u001b[0m\u001b[0m\n\u001b[0m\u001b[1;32m      5\u001b[0m \u001b[0;34m\u001b[0m\u001b[0m\n\u001b[1;32m      6\u001b[0m     \u001b[0mprint\u001b[0m\u001b[0;34m(\u001b[0m\u001b[0;34mf\"{arr}\"\u001b[0m\u001b[0;34m)\u001b[0m\u001b[0;34m\u001b[0m\u001b[0;34m\u001b[0m\u001b[0m\n",
      "\u001b[0;32m~/.local/lib/python3.8/site-packages/ipykernel/kernelbase.py\u001b[0m in \u001b[0;36mraw_input\u001b[0;34m(self, prompt)\u001b[0m\n\u001b[1;32m    846\u001b[0m                 \u001b[0;34m\"raw_input was called, but this frontend does not support input requests.\"\u001b[0m\u001b[0;34m\u001b[0m\u001b[0;34m\u001b[0m\u001b[0m\n\u001b[1;32m    847\u001b[0m             )\n\u001b[0;32m--> 848\u001b[0;31m         return self._input_request(str(prompt),\n\u001b[0m\u001b[1;32m    849\u001b[0m             \u001b[0mself\u001b[0m\u001b[0;34m.\u001b[0m\u001b[0m_parent_ident\u001b[0m\u001b[0;34m,\u001b[0m\u001b[0;34m\u001b[0m\u001b[0;34m\u001b[0m\u001b[0m\n\u001b[1;32m    850\u001b[0m             \u001b[0mself\u001b[0m\u001b[0;34m.\u001b[0m\u001b[0m_parent_header\u001b[0m\u001b[0;34m,\u001b[0m\u001b[0;34m\u001b[0m\u001b[0;34m\u001b[0m\u001b[0m\n",
      "\u001b[0;32m~/.local/lib/python3.8/site-packages/ipykernel/kernelbase.py\u001b[0m in \u001b[0;36m_input_request\u001b[0;34m(self, prompt, ident, parent, password)\u001b[0m\n\u001b[1;32m    890\u001b[0m             \u001b[0;32mexcept\u001b[0m \u001b[0mKeyboardInterrupt\u001b[0m\u001b[0;34m:\u001b[0m\u001b[0;34m\u001b[0m\u001b[0;34m\u001b[0m\u001b[0m\n\u001b[1;32m    891\u001b[0m                 \u001b[0;31m# re-raise KeyboardInterrupt, to truncate traceback\u001b[0m\u001b[0;34m\u001b[0m\u001b[0;34m\u001b[0m\u001b[0;34m\u001b[0m\u001b[0m\n\u001b[0;32m--> 892\u001b[0;31m                 \u001b[0;32mraise\u001b[0m \u001b[0mKeyboardInterrupt\u001b[0m\u001b[0;34m(\u001b[0m\u001b[0;34m\"Interrupted by user\"\u001b[0m\u001b[0;34m)\u001b[0m \u001b[0;32mfrom\u001b[0m \u001b[0;32mNone\u001b[0m\u001b[0;34m\u001b[0m\u001b[0;34m\u001b[0m\u001b[0m\n\u001b[0m\u001b[1;32m    893\u001b[0m             \u001b[0;32mexcept\u001b[0m \u001b[0mException\u001b[0m \u001b[0;32mas\u001b[0m \u001b[0me\u001b[0m\u001b[0;34m:\u001b[0m\u001b[0;34m\u001b[0m\u001b[0;34m\u001b[0m\u001b[0m\n\u001b[1;32m    894\u001b[0m                 \u001b[0mself\u001b[0m\u001b[0;34m.\u001b[0m\u001b[0mlog\u001b[0m\u001b[0;34m.\u001b[0m\u001b[0mwarning\u001b[0m\u001b[0;34m(\u001b[0m\u001b[0;34m\"Invalid Message:\"\u001b[0m\u001b[0;34m,\u001b[0m \u001b[0mexc_info\u001b[0m\u001b[0;34m=\u001b[0m\u001b[0;32mTrue\u001b[0m\u001b[0;34m)\u001b[0m\u001b[0;34m\u001b[0m\u001b[0;34m\u001b[0m\u001b[0m\n",
      "\u001b[0;31mKeyboardInterrupt\u001b[0m: Interrupted by user"
     ]
    }
   ],
   "source": [
    "arr = [3, 6, 9 , 11, 15, 22, 38, 50, 72, 91]\n",
    "size = len(arr)\n",
    "\n",
    "while(input(\"Do you want to perform binary search [Y/N]\") == \"Y\"):\n",
    "    \n",
    "    print(f\"{arr}\")\n",
    "    target = int(input(\"Enter the element you want to search :\"))\n",
    "    position = binarySearch(arr, size, target)\n",
    "    if(position == -1):\n",
    "        print(f\"Search is unsuccessful : {target} element could not be found in array\\n\")\n",
    "    else:\n",
    "        print(f\"Search is successful : {target} element found in postion {position + 1}\\n\")"
   ]
  },
  {
   "cell_type": "code",
   "execution_count": 25,
   "id": "female-algeria",
   "metadata": {},
   "outputs": [],
   "source": [
    "#binary search\n",
    "def recursiveBinarySearch(arr, size, target, left, right):\n",
    "    \"\"\"\n",
    "    Args:\n",
    "    arr (list) : list of array elements\n",
    "    size (int) : Number of elements in the array\n",
    "    target (int) : Target element that has to be searched in the array arr\n",
    "    \n",
    "    Returns:\n",
    "    index (int) : Position of target element if search successful otherwise returns -1\n",
    "    \"\"\"\n",
    "    \n",
    "    \n",
    "    if(left <= right):\n",
    "        \n",
    "        #compute mid index and match current mid element with target\n",
    "        mid = (left + right) // 2\n",
    "        if(arr[mid] == target):\n",
    "            return mid\n",
    "        \n",
    "        #as current mid doesn't match update l_index or r_index \n",
    "        if(arr[mid] < target):\n",
    "            return recursiveBinarySearch(arr, size, target, mid + 1, right)\n",
    "        elif(arr[mid] > target):\n",
    "            return recursiveBinarySearch(arr, size, target, left, mid - 1)\n",
    "    else:\n",
    "        return -1"
   ]
  },
  {
   "cell_type": "code",
   "execution_count": 26,
   "id": "intense-virus",
   "metadata": {},
   "outputs": [
    {
     "name": "stdout",
     "output_type": "stream",
     "text": [
      "Do you want to perform binary search [Y/N]Y\n",
      "[3, 6, 9, 11, 15, 22, 38, 50, 72, 91]\n",
      "Enter the element you want to search :52\n",
      "Search is unsuccessful : 52 element could not be found in array\n",
      "\n",
      "Do you want to perform binary search [Y/N]Y\n",
      "[3, 6, 9, 11, 15, 22, 38, 50, 72, 91]\n",
      "Enter the element you want to search :50\n",
      "Search is successful : 50 element found in postion 8\n",
      "\n",
      "Do you want to perform binary search [Y/N]Y\n",
      "[3, 6, 9, 11, 15, 22, 38, 50, 72, 91]\n",
      "Enter the element you want to search :11\n",
      "Search is successful : 11 element found in postion 4\n",
      "\n",
      "Do you want to perform binary search [Y/N]N\n"
     ]
    }
   ],
   "source": [
    "arr = [3, 6, 9 , 11, 15, 22, 38, 50, 72, 91]\n",
    "size = len(arr)\n",
    "\n",
    "while(input(\"Do you want to perform binary search [Y/N]\") == \"Y\"):\n",
    "    \n",
    "    print(f\"{arr}\")\n",
    "    target = int(input(\"Enter the element you want to search :\"))\n",
    "    position = recursiveBinarySearch(arr, size, target, 0, size)\n",
    "    if(position == -1):\n",
    "        print(f\"Search is unsuccessful : {target} element could not be found in array\\n\")\n",
    "    else:\n",
    "        print(f\"Search is successful : {target} element found in postion {position + 1}\\n\")"
   ]
  },
  {
   "cell_type": "code",
   "execution_count": null,
   "id": "parallel-catalog",
   "metadata": {},
   "outputs": [],
   "source": []
  },
  {
   "cell_type": "markdown",
   "id": "organic-cache",
   "metadata": {},
   "source": [
    "# 1. Time Complexity \n",
    "\n",
    "\n",
    "#  T(n) = T(n / 2) + 1 </font>\n",
    "\n",
    "## <font color=\"red\"> BINARY SEARCH : T(n) = O(log(2) n) </font>\n",
    "\n",
    "<br>\n",
    "\n",
    "# 2. Space Complexity\n",
    "\n",
    "## <font color=\"red\"> BINARY SEARCH : S(n) = O(1) </font>"
   ]
  },
  {
   "cell_type": "code",
   "execution_count": 1,
   "id": "36cc5fe3-6df5-4458-8f93-938b45b7fb37",
   "metadata": {},
   "outputs": [],
   "source": [
    "#Find the second largest element in a list in an optimal way. ‘"
   ]
  },
  {
   "cell_type": "code",
   "execution_count": 20,
   "id": "c0d0acd0-0fa5-4324-bfc2-03acfa7399c9",
   "metadata": {},
   "outputs": [
    {
     "data": {
      "text/plain": [
       "[2, 12, 15, 23, 24, 26, 26, 32, 45, 55, 56, 62]"
      ]
     },
     "execution_count": 20,
     "metadata": {},
     "output_type": "execute_result"
    }
   ],
   "source": [
    "ls = [12, 55, 56, 2, 45, 32, 62, 15,24,26,23,26]\n",
    "\n",
    "\n",
    "def swap(x, y):\n",
    "    temp = x\n",
    "    x = y\n",
    "    y = temp\n",
    "    return x, y\n",
    "\n",
    "def bubbleSort(a):\n",
    "    for i in range(0, len(a)):\n",
    "        for j in range(0, len(a) - i - 1):\n",
    "            if(a[j] > a[j + 1]):\n",
    "                a[j], a[j + 1] = swap(a[j], a[j + 1])\n",
    "    return a\n",
    "                \n",
    "sorted_ls = bubbleSort(ls)\n",
    "sorted_ls"
   ]
  },
  {
   "cell_type": "code",
   "execution_count": 27,
   "id": "1047dd09-fc32-4366-b653-a61d986785ee",
   "metadata": {},
   "outputs": [
    {
     "data": {
      "text/plain": [
       "56"
      ]
     },
     "execution_count": 27,
     "metadata": {},
     "output_type": "execute_result"
    }
   ],
   "source": [
    "max([x for x in ls if x < max(ls)])"
   ]
  },
  {
   "cell_type": "code",
   "execution_count": 26,
   "id": "fd6e0cb5-6fae-4ecb-b9af-9ad967969d86",
   "metadata": {},
   "outputs": [
    {
     "data": {
      "text/plain": [
       "56"
      ]
     },
     "execution_count": 26,
     "metadata": {},
     "output_type": "execute_result"
    }
   ],
   "source": [
    "sorted_ls[-2]"
   ]
  },
  {
   "cell_type": "code",
   "execution_count": 28,
   "id": "8e74856b-e51e-4cb6-a929-ae4a1d1f689d",
   "metadata": {},
   "outputs": [],
   "source": [
    "# Reverse a string vowels retain the same postion"
   ]
  },
  {
   "cell_type": "code",
   "execution_count": 29,
   "id": "64410acf-1804-4e83-83f8-4b980626b670",
   "metadata": {},
   "outputs": [],
   "source": [
    "vowels = list(\"aeiou\")\n",
    "string = \"abhishek\""
   ]
  },
  {
   "cell_type": "code",
   "execution_count": 50,
   "id": "0d2c6db3-ccfe-46a2-8af2-b1564fdcc2bb",
   "metadata": {},
   "outputs": [
    {
     "data": {
      "text/plain": [
       "'ydacibeok'"
      ]
     },
     "execution_count": 50,
     "metadata": {},
     "output_type": "execute_result"
    }
   ],
   "source": [
    "def reverseStringHoldingVowels(string):\n",
    "    string = list(string)\n",
    "    i, j = 0, len(string) - 1\n",
    "    \n",
    "    while i < j:\n",
    "        \n",
    "        if string[i] in vowels:\n",
    "            i += 1\n",
    "            continue\n",
    "        \n",
    "        if string[j] in vowels:\n",
    "            j -= 1\n",
    "            continue\n",
    "        \n",
    "        string[i], string[j] = string[j], string[i]\n",
    "        i += 1\n",
    "        j -= 1\n",
    "    \n",
    "    return \"\".join(string)\n",
    "\n",
    "reverseStringHoldingVowels(\"kbacideoy\")"
   ]
  },
  {
   "cell_type": "code",
   "execution_count": 40,
   "id": "278bd245-dcf6-4f67-b4bf-2dccd9fa5fae",
   "metadata": {},
   "outputs": [
    {
     "data": {
      "text/plain": [
       "'aehiihea'"
      ]
     },
     "execution_count": 40,
     "metadata": {},
     "output_type": "execute_result"
    }
   ],
   "source": [
    "\"\".join(reversed_string)"
   ]
  },
  {
   "cell_type": "code",
   "execution_count": 45,
   "id": "8587d3c4-74a5-4d0a-bac3-d8ed4a5494ee",
   "metadata": {},
   "outputs": [
    {
     "data": {
      "text/plain": [
       "'hollo werld'"
      ]
     },
     "execution_count": 45,
     "metadata": {},
     "output_type": "execute_result"
    }
   ],
   "source": [
    "# Reverse only vowels in the string\n",
    "\n",
    "def reverseVowels1(string):\n",
    "    vowels = list(\"aeiou\")\n",
    "    string = list(string)\n",
    "    aux_string = [\"\"] * len(string)\n",
    "    \n",
    "    index = 0\n",
    "    for i in range(len(string)):\n",
    "        if string[i] in vowels:\n",
    "            aux_string[index] = string[i]\n",
    "            index += 1\n",
    "        \n",
    "    for i in range(len(string)):\n",
    "        if string[i] in vowels:\n",
    "            index -=1\n",
    "            string[i] = aux_string[index]\n",
    "    return \"\".join(string)\n",
    "\n",
    "#reverseVowels1(\"hello world\")\n",
    "        \n",
    "    \n",
    "def reverseVowels2(string):\n",
    "    vowels = list(\"aeiou\")\n",
    "    string = list(string)\n",
    "    i, j = 0, len(string) - 1\n",
    "    \n",
    "    while i < j:\n",
    "        if string[i] not in vowels:\n",
    "            i += 1\n",
    "            continue\n",
    "        \n",
    "        if string[j] not in vowels:\n",
    "            j -= 1\n",
    "            continue\n",
    "            \n",
    "        string[i], string[j] = string[j], string[i]\n",
    "        i += 1\n",
    "        j -= 1\n",
    "        \n",
    "    return \"\".join(string)\n",
    "        \n",
    "reverseVowels2(\"hello world\")\n",
    "    "
   ]
  },
  {
   "cell_type": "code",
   "execution_count": 72,
   "id": "19a27be0-fd27-4294-8c66-c08567a32263",
   "metadata": {},
   "outputs": [],
   "source": [
    "# Check is power of 3\n",
    "import math\n",
    "\n",
    "def isPowerOfThree(n):\n",
    "    if n <= 0:\n",
    "        return False\n",
    "    elif n%3 == 0:\n",
    "        return isPowerOfThree(n//3)\n",
    "    elif n == 1:\n",
    "        return True\n",
    "    return False\n",
    "\n",
    "def isPowerOfThree1(n):\n",
    "    if not n or n<0:\n",
    "        return False\n",
    "    \n",
    "    elif math.log10(n) / math.log10(2) % 1 == 0:\n",
    "        return True\n",
    "    return False"
   ]
  },
  {
   "cell_type": "code",
   "execution_count": 78,
   "id": "b5d312eb-81b4-4df4-8b50-356852ef52bf",
   "metadata": {},
   "outputs": [
    {
     "data": {
      "text/plain": [
       "True"
      ]
     },
     "execution_count": 78,
     "metadata": {},
     "output_type": "execute_result"
    }
   ],
   "source": [
    "isPowerOfThree1(8)"
   ]
  },
  {
   "cell_type": "code",
   "execution_count": 5,
   "id": "5e014ad5-e97d-4b98-8238-81bf0a496387",
   "metadata": {},
   "outputs": [
    {
     "data": {
      "text/plain": [
       "'hello,i am sam'"
      ]
     },
     "execution_count": 5,
     "metadata": {},
     "output_type": "execute_result"
    }
   ],
   "source": [
    "#decorator\n",
    "def decorator_lowercase(function):   # defining python decorator\n",
    "    def wrapper():\n",
    "        func = function()\n",
    "        input_lowercase = func.lower()\n",
    "        return input_lowercase\n",
    "    return wrapper\n",
    "@decorator_lowercase    ##calling decoractor\n",
    "def intro():                        #Normal function\n",
    "    return 'Hello,I AM SAM'\n",
    "intro()"
   ]
  },
  {
   "cell_type": "code",
   "execution_count": 8,
   "id": "7f85e5d6-fc77-4bcc-a63d-2a01bf3c62f0",
   "metadata": {},
   "outputs": [
    {
     "data": {
      "text/plain": [
       "'hey'"
      ]
     },
     "execution_count": 8,
     "metadata": {},
     "output_type": "execute_result"
    }
   ],
   "source": [
    "def decorator_func(function):\n",
    "    def wrapper():\n",
    "        func = function()\n",
    "        return func.lower()\n",
    "    return wrapper\n",
    "    \n",
    "@decorator_func\n",
    "def here():\n",
    "    return \"HEY\"\n",
    "\n",
    "here()"
   ]
  },
  {
   "cell_type": "code",
   "execution_count": 1,
   "id": "10cfcf27-2e60-49c1-8828-1ee91b10ebb9",
   "metadata": {},
   "outputs": [],
   "source": [
    "x = {'a': 10 , 'b': 1 ,'c': 18 ,'d': 4 ,'e': 12 ,}"
   ]
  },
  {
   "cell_type": "code",
   "execution_count": 4,
   "id": "10226be2-a7f1-402c-98f3-9138d9d37a1c",
   "metadata": {},
   "outputs": [
    {
     "data": {
      "text/plain": [
       "{'c': 18, 'e': 12, 'a': 10, 'd': 4, 'b': 1}"
      ]
     },
     "execution_count": 4,
     "metadata": {},
     "output_type": "execute_result"
    }
   ],
   "source": [
    "dict(sorted(x.items(), key=lambda item: item[1], reverse=True))"
   ]
  },
  {
   "cell_type": "code",
   "execution_count": 6,
   "id": "f6b384fc-4f6b-4332-bf7e-f1badbeb4ddb",
   "metadata": {},
   "outputs": [
    {
     "data": {
      "text/plain": [
       "[('c', 18), ('e', 12), ('a', 10), ('d', 4), ('b', 1)]"
      ]
     },
     "execution_count": 6,
     "metadata": {},
     "output_type": "execute_result"
    }
   ],
   "source": [
    "sorted(x.items(), key = lambda item : item[1], reverse=True)"
   ]
  },
  {
   "cell_type": "code",
   "execution_count": null,
   "id": "precious-arbor",
   "metadata": {},
   "outputs": [],
   "source": []
  },
  {
   "cell_type": "markdown",
   "id": "suspected-fence",
   "metadata": {},
   "source": [
    "# KEEP LEARNING, KEEP TEACHING, KEEP SHARING !!!\n",
    "# Thank YOU, Lets meet in next tutorial 🙂"
   ]
  },
  {
   "cell_type": "markdown",
   "id": "legitimate-organic",
   "metadata": {},
   "source": []
  }
 ],
 "metadata": {
  "kernelspec": {
   "display_name": "Python 3 (ipykernel)",
   "language": "python",
   "name": "python3"
  },
  "language_info": {
   "codemirror_mode": {
    "name": "ipython",
    "version": 3
   },
   "file_extension": ".py",
   "mimetype": "text/x-python",
   "name": "python",
   "nbconvert_exporter": "python",
   "pygments_lexer": "ipython3",
   "version": "3.8.10"
  }
 },
 "nbformat": 4,
 "nbformat_minor": 5
}
