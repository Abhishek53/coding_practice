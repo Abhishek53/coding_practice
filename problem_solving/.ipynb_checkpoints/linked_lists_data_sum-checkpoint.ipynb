{
 "cells": [
  {
   "cell_type": "markdown",
   "id": "eb4ec554-c496-490d-809c-637d3a3f9511",
   "metadata": {},
   "source": [
    "* Author : abhishekr.ar53@gmail.com\n",
    "* Date : **5th MAR 2022**\n",
    "----\n",
    "#### **You are given two non-empty linked lists representing two non-negative integers. The digits are stored in reverse order, and each of their nodes contains a single digit. Add the two numbers and return the sum as a linked list. You may assume the two numbers do not contain any leading zero, except the number 0 itself.**\n",
    "\n",
    " \n",
    "\n",
    "Example 1:\n",
    "Input: l1 = [2,4,3], l2 = [5,6,4]\n",
    "Output: [7,0,8]\n",
    "Explanation: 342 + 465 = 807.\n",
    "\n",
    "\n",
    "Example 2:\n",
    "Input: l1 = [0], l2 = [0]\n",
    "Output: [0]\n",
    "\n",
    "\n",
    "Example 3:\n",
    "Input: l1 = [9,9,9,9,9,9,9], l2 = [9,9,9,9]\n",
    "Output: [8,9,9,9,0,0,0,1]\n",
    "\n",
    " \n",
    "\n",
    "Constraints:\n",
    "    The number of nodes in each linked list is in the range [1, 100].\n",
    "    0 <= Node.val <= 9\n",
    "    It is guaranteed that the list represents a number that does not have leading zeros.\n",
    "\n"
   ]
  },
  {
   "cell_type": "code",
   "execution_count": 82,
   "id": "928e7f08-0a98-48f2-84d4-b45ae6cee066",
   "metadata": {},
   "outputs": [],
   "source": [
    "class ListNode:\n",
    "    def __init__(self, value=0, next=None):\n",
    "        self.value = value\n",
    "        self.next = next\n",
    "\n",
    "ll_1 = ListNode(2)\n",
    "node_2 = ListNode(4)\n",
    "node_3 = ListNode(3)\n",
    "ll_1.next = node_2\n",
    "node_2.next = node_3\n",
    "\n",
    "ll_2 = ListNode(5)\n",
    "node_2 = ListNode(6)\n",
    "node_3 = ListNode(4)\n",
    "ll_2.next = node_2\n",
    "node_2.next = node_3"
   ]
  },
  {
   "cell_type": "code",
   "execution_count": 83,
   "id": "95b1b0c6-a579-4494-b20e-a9ffc775b369",
   "metadata": {},
   "outputs": [],
   "source": [
    "def add_two_lls(ll_1, ll_2):\n",
    "    dummyHead = ListNode(0);\n",
    "    p = ll_1 \n",
    "    q = ll_2 \n",
    "    curr = dummyHead\n",
    "    carry = 0\n",
    "    while (p or q ):\n",
    "        x = p.value if(p) else 0\n",
    "        y = q.value if(q) else 0\n",
    "        sum = carry + x + y;\n",
    "        carry = sum // 10;\n",
    "        curr.next =ListNode(sum % 10);\n",
    "        curr = curr.next;\n",
    "        if (p): p = p.next;\n",
    "        if (q): q = q.next;\n",
    "        \n",
    "    if (carry > 0):\n",
    "        curr.next = ListNode(carry);\n",
    "\n",
    "    return dummyHead.next;"
   ]
  },
  {
   "cell_type": "code",
   "execution_count": 84,
   "id": "fc3f69dd-d0d9-4cda-b3d1-d8b133afb171",
   "metadata": {},
   "outputs": [],
   "source": [
    "res = add_two_lls(ll_1, ll_2)"
   ]
  },
  {
   "cell_type": "code",
   "execution_count": 85,
   "id": "34a1f7fc-81f0-412f-b6a4-b8145bfadc6a",
   "metadata": {},
   "outputs": [
    {
     "name": "stdout",
     "output_type": "stream",
     "text": [
      "7 -- > 0 -- > 8 -- > "
     ]
    }
   ],
   "source": [
    "while(res):\n",
    "    print(f\"{res.value} -- > \", end=\"\")\n",
    "    res = res.next"
   ]
  },
  {
   "cell_type": "code",
   "execution_count": null,
   "id": "f6b6680e-0ef0-44e6-8968-f4375941649e",
   "metadata": {},
   "outputs": [],
   "source": []
  }
 ],
 "metadata": {
  "kernelspec": {
   "display_name": "Python 3 (ipykernel)",
   "language": "python",
   "name": "python3"
  },
  "language_info": {
   "codemirror_mode": {
    "name": "ipython",
    "version": 3
   },
   "file_extension": ".py",
   "mimetype": "text/x-python",
   "name": "python",
   "nbconvert_exporter": "python",
   "pygments_lexer": "ipython3",
   "version": "3.8.10"
  }
 },
 "nbformat": 4,
 "nbformat_minor": 5
}
