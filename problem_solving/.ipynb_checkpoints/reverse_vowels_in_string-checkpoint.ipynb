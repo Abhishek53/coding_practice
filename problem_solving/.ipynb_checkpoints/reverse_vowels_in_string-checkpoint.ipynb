{
 "cells": [
  {
   "cell_type": "code",
   "execution_count": null,
   "id": "74b1bc16-1eb6-4c5c-ad99-75dd9930ed8f",
   "metadata": {},
   "outputs": [],
   "source": []
  },
  {
   "cell_type": "code",
   "execution_count": 45,
   "id": "5efb84c5-b245-4d26-ab36-e7a227e79f42",
   "metadata": {},
   "outputs": [
    {
     "data": {
      "text/plain": [
       "'hollo werld'"
      ]
     },
     "execution_count": 45,
     "metadata": {},
     "output_type": "execute_result"
    }
   ],
   "source": [
    "# Reverse only vowels in the string\n",
    "\n",
    "def reverseVowels1(string):\n",
    "    vowels = list(\"aeiou\")\n",
    "    string = list(string)\n",
    "    aux_string = [\"\"] * len(string)\n",
    "    \n",
    "    index = 0\n",
    "    for i in range(len(string)):\n",
    "        if string[i] in vowels:\n",
    "            aux_string[index] = string[i]\n",
    "            index += 1\n",
    "        \n",
    "    for i in range(len(string)):\n",
    "        if string[i] in vowels:\n",
    "            index -=1\n",
    "            string[i] = aux_string[index]\n",
    "    return \"\".join(string)\n",
    "\n",
    "#reverseVowels1(\"hello world\")\n",
    "        \n",
    "    \n",
    "def reverseVowels2(string):\n",
    "    vowels = list(\"aeiou\")\n",
    "    string = list(string)\n",
    "    i, j = 0, len(string) - 1\n",
    "    \n",
    "    while i < j:\n",
    "        if string[i] not in vowels:\n",
    "            i += 1\n",
    "            continue\n",
    "        \n",
    "        if string[j] not in vowels:\n",
    "            j -= 1\n",
    "            continue\n",
    "            \n",
    "        string[i], string[j] = string[j], string[i]\n",
    "        i += 1\n",
    "        j -= 1\n",
    "        \n",
    "    return \"\".join(string)\n",
    "        \n",
    "reverseVowels2(\"hello world\")\n",
    "    "
   ]
  }
 ],
 "metadata": {
  "kernelspec": {
   "display_name": "Python 3 (ipykernel)",
   "language": "python",
   "name": "python3"
  },
  "language_info": {
   "codemirror_mode": {
    "name": "ipython",
    "version": 3
   },
   "file_extension": ".py",
   "mimetype": "text/x-python",
   "name": "python",
   "nbconvert_exporter": "python",
   "pygments_lexer": "ipython3",
   "version": "3.8.10"
  }
 },
 "nbformat": 4,
 "nbformat_minor": 5
}
